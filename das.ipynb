{
 "cells": [
  {
   "cell_type": "code",
   "execution_count": 1,
   "metadata": {},
   "outputs": [],
   "source": [
    "%load_ext autoreload\n",
    "%autoreload 2\n",
    "from transformers import PreTrainedModel, PretrainedConfig\n",
    "from transformers import AutoModel, AutoConfig, AutoTokenizer\n",
    "from omegaconf import OmegaConf\n",
    "import hydra\n",
    "from einops import repeat\n",
    "import pyvene as pv\n",
    "import torch\n",
    "import wandb\n",
    "from tasks.regression import *\n",
    "import os\n",
    "import gc\n",
    "import pandas as pd\n",
    "import seaborn as sns\n",
    "from matplotlib import pyplot as plt"
   ]
  },
  {
   "cell_type": "markdown",
   "metadata": {},
   "source": [
    "# Sandbox"
   ]
  },
  {
   "cell_type": "code",
   "execution_count": 2,
   "metadata": {},
   "outputs": [],
   "source": [
    "experiments = {\n",
    "    \"explicit-transformer\": \"1ejrnua7\",\n",
    "    \"explicit-mlp\": \"hb9li9ry\",\n",
    "    \"explicit-aux-transformer\": \"hzr77fqz\",\n",
    "    \"implicit\": \"huqr2bcp\",\n",
    "}"
   ]
  },
  {
   "cell_type": "code",
   "execution_count": 3,
   "metadata": {},
   "outputs": [],
   "source": [
    "EXP = 'explicit-transformer'"
   ]
  },
  {
   "cell_type": "code",
   "execution_count": 4,
   "metadata": {},
   "outputs": [
    {
     "name": "stderr",
     "output_type": "stream",
     "text": [
      "\u001b[34m\u001b[1mwandb\u001b[0m:   1 of 1 files downloaded.  \n"
     ]
    }
   ],
   "source": [
    "api = wandb.Api()\n",
    "run = api.run(f'leogagnon/Explicit-Implicit/runs/{experiments[EXP]}')\n",
    "artifact = api.artifact(f'leogagnon/Explicit-Implicit/model-{experiments[EXP]}:latest')\n",
    "path = artifact.download()"
   ]
  },
  {
   "cell_type": "code",
   "execution_count": 5,
   "metadata": {},
   "outputs": [
    {
     "name": "stderr",
     "output_type": "stream",
     "text": [
      "/home/mila/l/leo.gagnon/explicit_implicit_icl/venv/lib/python3.10/site-packages/pytorch_lightning/core/saving.py:177: Found keys that are not in the model state dict but in the checkpoint: ['w_predictor.weight', 'w_predictor.bias']\n"
     ]
    }
   ],
   "source": [
    "pl_module = RegressionICL.load_from_checkpoint(\n",
    "    checkpoint_path=os.path.join(path,'model.ckpt'),\n",
    "    strict=False,\n",
    "    model=hydra.utils.instantiate(run.config['model_config']),\n",
    ").to('cuda')"
   ]
  },
  {
   "cell_type": "code",
   "execution_count": 6,
   "metadata": {},
   "outputs": [],
   "source": [
    "class MyConfig(PretrainedConfig):\n",
    "    model_type = 'mymodel'\n",
    "    def __init__(self, **kwargs):\n",
    "        super().__init__(**kwargs)\n",
    "\n",
    "class MyModel(PreTrainedModel):\n",
    "    config_class = MyConfig\n",
    "    def __init__(self, config):\n",
    "        super().__init__(config)\n",
    "        self.config = config\n",
    "        self.model = pl_module.model\n",
    "    def forward(self, x_c, y_c, x_q):\n",
    "        return self.model(x_c, y_c, x_q) "
   ]
  },
  {
   "cell_type": "code",
   "execution_count": 8,
   "metadata": {},
   "outputs": [],
   "source": [
    "hf_model = MyModel(MyConfig())\n",
    "if EXP == \"implicit\":\n",
    "    pv_config = pv.IntervenableConfig(\n",
    "        representations=[\n",
    "            pv.RepresentationConfig(\n",
    "                component=f\"model.encoder.layers[{i}].output\",\n",
    "                intervention=pv.LowRankRotatedSpaceIntervention(\n",
    "                    embed_dim=256, low_rank_dimension=10\n",
    "                )\n",
    "            )\n",
    "            for i in [3,5]\n",
    "        ]\n",
    "    )\n",
    "else:\n",
    "    pv_config = pv.IntervenableConfig(\n",
    "        representations=pv.RepresentationConfig(\n",
    "            component=\"model.context_model.output\",\n",
    "            intervention=pv.LowRankRotatedSpaceIntervention(\n",
    "                embed_dim=256, low_rank_dimension=10\n",
    "            ),\n",
    "        )\n",
    "    )\n",
    "pv_model = pv.IntervenableModel(config=pv_config, model=hf_model)\n",
    "pv_model.set_device(\"cuda\")"
   ]
  },
  {
   "cell_type": "code",
   "execution_count": 9,
   "metadata": {},
   "outputs": [],
   "source": [
    "datamodule = hydra.utils.instantiate(run.config['experiment_config']['experiment']['data'])"
   ]
  },
  {
   "cell_type": "code",
   "execution_count": 14,
   "metadata": {},
   "outputs": [],
   "source": [
    "val_idx = {'iid': 0, 'far': 1, 'wide': 2}\n",
    "VAL_STYLE = 'wide'"
   ]
  },
  {
   "cell_type": "code",
   "execution_count": 15,
   "metadata": {},
   "outputs": [
    {
     "name": "stdout",
     "output_type": "stream",
     "text": [
      "Train loss : 3.198320116315569\n",
      "Val loss : tensor(13.1080, device='cuda:0')\n",
      "Train loss : 1.874198590006147\n",
      "Val loss : tensor(6.2786, device='cuda:0')\n",
      "Train loss : 0.5793971355472293\n",
      "Val loss : tensor(2.3316, device='cuda:0')\n",
      "Train loss : 0.22932793625763484\n",
      "Val loss : tensor(1.2753, device='cuda:0')\n",
      "Train loss : 0.15301584558827536\n",
      "Val loss : tensor(0.9138, device='cuda:0')\n",
      "Train loss : 0.10284969849245888\n",
      "Val loss : tensor(0.7651, device='cuda:0')\n",
      "Train loss : 0.05476683271782739\n",
      "Val loss : tensor(0.5624, device='cuda:0')\n",
      "Train loss : 0.03585385424750192\n",
      "Val loss : tensor(0.5677, device='cuda:0')\n",
      "Train loss : 0.03415108525327274\n",
      "Val loss : tensor(0.5631, device='cuda:0')\n",
      "Train loss : 0.02626355178654194\n",
      "Val loss : tensor(0.5083, device='cuda:0')\n"
     ]
    }
   ],
   "source": [
    "opt = torch.optim.Adam(pv_model.get_trainable_parameters())\n",
    "pv_model.model.eval()\n",
    "\n",
    "train_loss_traj = []\n",
    "val_loss_traj = []\n",
    "for epoch in range(10):\n",
    "    train_loss = []\n",
    "    for batch in datamodule.train_dataloader():\n",
    "        base = {\n",
    "            \"x_c\": batch[0][0].cuda(),\n",
    "            \"y_c\": batch[0][1].cuda(),\n",
    "            \"x_q\": batch[1][0].cuda(),\n",
    "        }\n",
    "        c_len = batch[0][0].shape[1]\n",
    "\n",
    "        # Different context, different queries, different latent\n",
    "        x_c_source, x_q_source = datamodule.train_data.sample_x(c_len)\n",
    "        w_source = datamodule.train_data.sample_function_params()\n",
    "        source = {\n",
    "            \"x_c\": x_c_source.cuda(),\n",
    "            \"y_c\": datamodule.train_data.function(x_c_source, w_source).cuda(),\n",
    "            \"x_q\": x_q_source.cuda(),\n",
    "        }\n",
    "        unit_locations = (\n",
    "            {\"sources->base\": c_len - 1}\n",
    "            if EXP == \"implicit\"\n",
    "            else None\n",
    "        )\n",
    "        y_q_intervened = pv_model(base, source, unit_locations=unit_locations)[1][0]\n",
    "        y_q_counterfactual = datamodule.train_data.function(\n",
    "            batch[1][0], w_source\n",
    "        ).cuda()\n",
    "\n",
    "        loss = torch.nn.functional.mse_loss(y_q_intervened, y_q_counterfactual)\n",
    "\n",
    "        loss.backward()\n",
    "        train_loss += [loss.detach().cpu().item()]\n",
    "        opt.step()\n",
    "        opt.zero_grad()\n",
    "\n",
    "    train_loss_traj += [sum(train_loss) / len(train_loss)]\n",
    "    print(\"Train loss :\", train_loss_traj[-1])\n",
    "    \n",
    "    with torch.no_grad():\n",
    "        for batch in datamodule.val_dataloader()[val_idx[VAL_STYLE]]:\n",
    "            gc.collect()\n",
    "            base = {\n",
    "                \"x_c\": batch[0][0].cuda(),\n",
    "                \"y_c\": batch[0][1].cuda(),\n",
    "                \"x_q\": batch[1][0].cuda(),\n",
    "            }\n",
    "            c_len = batch[0][0].shape[1]\n",
    "            bs = batch[0][0].shape[0]\n",
    "\n",
    "            # Different context, different queries, different latent\n",
    "            x_c_source, x_q_source = datamodule.val_data[VAL_STYLE].sample_x(\n",
    "                batch[0][0].shape[1]\n",
    "            )\n",
    "            w_source = datamodule.val_data[VAL_STYLE].sample_function_params()\n",
    "            source = {\n",
    "                \"x_c\": x_c_source.cuda(),\n",
    "                \"y_c\": datamodule.val_data[VAL_STYLE].function(x_c_source, w_source).cuda(),\n",
    "                \"x_q\": x_q_source.cuda(),\n",
    "            }\n",
    "\n",
    "            unit_locations = (\n",
    "                {\"sources->base\": c_len - 1}\n",
    "                if EXP == \"implicit\"\n",
    "                else None\n",
    "            )\n",
    "            y_q_intervened = pv_model(base, source, unit_locations=unit_locations)[1][0]\n",
    "            y_q_counterfactual = (\n",
    "                datamodule.val_data[VAL_STYLE].function(batch[1][0], w_source).cuda()\n",
    "            )\n",
    "\n",
    "            loss = torch.nn.functional.mse_loss(y_q_intervened, y_q_counterfactual)\n",
    "            val_loss_traj += [loss.cpu().item()]\n",
    "            print(\"Val loss :\", loss)"
   ]
  },
  {
   "cell_type": "code",
   "execution_count": 24,
   "metadata": {},
   "outputs": [],
   "source": [
    "implicit_mse = val_loss_traj[-1]"
   ]
  },
  {
   "cell_type": "code",
   "execution_count": 36,
   "metadata": {},
   "outputs": [],
   "source": [
    "explicitMLP_mse = val_loss_traj[-1]"
   ]
  },
  {
   "cell_type": "code",
   "execution_count": 44,
   "metadata": {},
   "outputs": [],
   "source": [
    "explicitTSF_mse = val_loss_traj[-1]"
   ]
  },
  {
   "cell_type": "code",
   "execution_count": 45,
   "metadata": {},
   "outputs": [],
   "source": [
    "counterfactual_mse = [implicit_mse, explicitTSF_mse, explicitMLP_mse]"
   ]
  },
  {
   "cell_type": "markdown",
   "metadata": {},
   "source": [
    "# Figures"
   ]
  },
  {
   "cell_type": "code",
   "execution_count": 6,
   "metadata": {},
   "outputs": [],
   "source": [
    "experiments = {\n",
    "    \"explicit-transformer\": \"1ejrnua7\",\n",
    "    \"explicit-mlp\": \"hb9li9ry\",\n",
    "    \"explicit-aux-transformer\": \"hzr77fqz\",\n",
    "    \"implicit\": \"huqr2bcp\",\n",
    "}\n",
    "val_idx = {'iid': 0, 'far': 1, 'wide': 2}\n",
    "\n",
    "\n",
    "def val_intervention_acc(val_style, exp):\n",
    "\n",
    "    api = wandb.Api()\n",
    "    run = api.run(f'leogagnon/Explicit-Implicit/runs/{experiments[exp]}')\n",
    "    artifact = api.artifact(f'leogagnon/Explicit-Implicit/model-{experiments[exp]}:latest')\n",
    "    path = artifact.download()\n",
    "\n",
    "    pl_module = RegressionICL.load_from_checkpoint(\n",
    "        checkpoint_path=os.path.join(path,'model.ckpt'),\n",
    "        strict=False,\n",
    "        model=hydra.utils.instantiate(run.config['model_config']),\n",
    "    ).to('cuda')\n",
    "\n",
    "    class MyConfig(PretrainedConfig):\n",
    "        model_type = 'mymodel'\n",
    "        def __init__(self, **kwargs):\n",
    "            super().__init__(**kwargs)\n",
    "\n",
    "    class MyModel(PreTrainedModel):\n",
    "        config_class = MyConfig\n",
    "        def __init__(self, config):\n",
    "            super().__init__(config)\n",
    "            self.config = config\n",
    "            self.model = pl_module.model\n",
    "        def forward(self, x_c, y_c, x_q):\n",
    "            return self.model(x_c, y_c, x_q) \n",
    "\n",
    "    hf_model = MyModel(MyConfig())\n",
    "    if exp == \"implicit\":\n",
    "        pv_config = pv.IntervenableConfig(\n",
    "            representations=[\n",
    "                pv.RepresentationConfig(\n",
    "                    component=f\"model.encoder.layers[{i}].output\",\n",
    "                    intervention=pv.LowRankRotatedSpaceIntervention(\n",
    "                        embed_dim=256, low_rank_dimension=10\n",
    "                    )\n",
    "                )\n",
    "                for i in [3,5]\n",
    "            ]\n",
    "        )\n",
    "    else:\n",
    "        pv_config = pv.IntervenableConfig(\n",
    "            representations=pv.RepresentationConfig(\n",
    "                component=\"model.context_model.output\",\n",
    "                intervention=pv.LowRankRotatedSpaceIntervention(\n",
    "                    embed_dim=256, low_rank_dimension=10\n",
    "                ),\n",
    "            )\n",
    "        )\n",
    "    pv_model = pv.IntervenableModel(config=pv_config, model=hf_model)\n",
    "    pv_model.set_device(\"cuda\")\n",
    "\n",
    "    datamodule = hydra.utils.instantiate(run.config['experiment_config']['experiment']['data'])\n",
    "\n",
    "    opt = torch.optim.Adam(pv_model.get_trainable_parameters())\n",
    "    pv_model.model.eval()\n",
    "\n",
    "    train_loss_traj = []\n",
    "    val_loss_traj = []\n",
    "    for epoch in range(10):\n",
    "        train_loss = []\n",
    "        for batch in datamodule.train_dataloader():\n",
    "            base = {\n",
    "                \"x_c\": batch[0][0].cuda(),\n",
    "                \"y_c\": batch[0][1].cuda(),\n",
    "                \"x_q\": batch[1][0].cuda(),\n",
    "            }\n",
    "            c_len = batch[0][0].shape[1]\n",
    "\n",
    "            # Different context, different queries, different latent\n",
    "            x_c_source, x_q_source = datamodule.train_data.sample_x(c_len)\n",
    "            w_source = datamodule.train_data.sample_function_params()\n",
    "            source = {\n",
    "                \"x_c\": x_c_source.cuda(),\n",
    "                \"y_c\": datamodule.train_data.function(x_c_source, w_source).cuda(),\n",
    "                \"x_q\": x_q_source.cuda(),\n",
    "            }\n",
    "            unit_locations = (\n",
    "                {\"sources->base\": c_len - 1}\n",
    "                if exp == \"implicit\"\n",
    "                else None\n",
    "            )\n",
    "            y_q_intervened = pv_model(base, source, unit_locations=unit_locations)[1][0]\n",
    "            y_q_counterfactual = datamodule.train_data.function(\n",
    "                batch[1][0], w_source\n",
    "            ).cuda()\n",
    "\n",
    "            loss = torch.nn.functional.mse_loss(y_q_intervened, y_q_counterfactual)\n",
    "\n",
    "            loss.backward()\n",
    "            train_loss += [loss.detach().cpu().item()]\n",
    "            opt.step()\n",
    "            opt.zero_grad()\n",
    "\n",
    "        train_loss_traj += [sum(train_loss) / len(train_loss)]\n",
    "        print(\"Train loss :\", train_loss_traj[-1])\n",
    "        \n",
    "        with torch.no_grad():\n",
    "            for batch in datamodule.val_dataloader()[val_idx[val_style]]:\n",
    "                gc.collect()\n",
    "                base = {\n",
    "                    \"x_c\": batch[0][0].cuda(),\n",
    "                    \"y_c\": batch[0][1].cuda(),\n",
    "                    \"x_q\": batch[1][0].cuda(),\n",
    "                }\n",
    "                c_len = batch[0][0].shape[1]\n",
    "                bs = batch[0][0].shape[0]\n",
    "\n",
    "                # Different context, different queries, different latent\n",
    "                x_c_source, x_q_source = datamodule.val_data[val_style].sample_x(\n",
    "                    batch[0][0].shape[1]\n",
    "                )\n",
    "                w_source = datamodule.val_data[val_style].sample_function_params()\n",
    "                source = {\n",
    "                    \"x_c\": x_c_source.cuda(),\n",
    "                    \"y_c\": datamodule.val_data[val_style].function(x_c_source, w_source).cuda(),\n",
    "                    \"x_q\": x_q_source.cuda(),\n",
    "                }\n",
    "\n",
    "                unit_locations = (\n",
    "                    {\"sources->base\": c_len - 1}\n",
    "                    if exp == \"implicit\"\n",
    "                    else None\n",
    "                )\n",
    "                y_q_intervened = pv_model(base, source, unit_locations=unit_locations)[1][0]\n",
    "                y_q_counterfactual = (\n",
    "                    datamodule.val_data[val_style].function(batch[1][0], w_source).cuda()\n",
    "                )\n",
    "\n",
    "                loss = torch.nn.functional.mse_loss(y_q_intervened, y_q_counterfactual)\n",
    "                val_loss_traj += [loss.cpu().item()]\n",
    "                print(\"Val loss :\", loss)\n",
    "    return val_loss_traj[-1]"
   ]
  },
  {
   "cell_type": "code",
   "execution_count": 8,
   "metadata": {},
   "outputs": [],
   "source": [
    "accs = torch.zeros(3,3)"
   ]
  },
  {
   "cell_type": "code",
   "execution_count": null,
   "metadata": {},
   "outputs": [],
   "source": [
    "for i, v in enumerate([\"iid\", \"far\", \"wide\"]):\n",
    "    for j, e in enumerate([\"implicit\", \"explicit-transformer\", \"explicit-mlp\"]):\n",
    "        accs[i, j] = val_intervention_acc(v, e)"
   ]
  },
  {
   "cell_type": "code",
   "execution_count": 31,
   "metadata": {},
   "outputs": [],
   "source": [
    "data = pd.melt(\n",
    "    pd.DataFrame(accs).reset_index(),\n",
    "    id_vars=\"index\",\n",
    "    var_name=\"Model\",\n",
    "    value_name=\"value\",\n",
    ")\n",
    "data.rename(columns={\"index\": \"OOD style\"}, inplace=True)\n",
    "data.rename(columns={\"value\": \"Counterfactual MSE\"}, inplace=True)\n",
    "\n",
    "data['Model'] = data['Model'].map({0: 'Implicit', 1: 'Explicit Transformer', 2: 'Explicit MLP'})\n",
    "data['OOD style'] = data['OOD style'].map({0: 'IID', 1: 'Far', 2: 'Wide'})"
   ]
  },
  {
   "cell_type": "code",
   "execution_count": 65,
   "metadata": {},
   "outputs": [],
   "source": [
    "# Style for making nice-looking paper plots with page-scale figure size units\n",
    "sns.set_theme(\n",
    "    style=\"ticks\",\n",
    "    context=\"paper\",\n",
    "    rc={\n",
    "        \"font.size\": 5,\n",
    "        \"axes.titlesize\": 6,\n",
    "        \"axes.labelsize\": 6,\n",
    "        \"axes.labelpad\": 2,\n",
    "        \"xtick.labelsize\": 4.5,\n",
    "        \"ytick.labelsize\": 4.5,\n",
    "        \"legend.title_fontsize\": 4.5,\n",
    "        \"legend.fontsize\": 4.5,\n",
    "        \"legend.markerscale\": 0.5,\n",
    "        \"axes.spines.top\": False,\n",
    "        \"axes.spines.right\": False,\n",
    "        \"axes.linewidth\": 0.4,\n",
    "        \"xtick.major.width\": 0.4,\n",
    "        \"ytick.major.width\": 0.4,\n",
    "        \"xtick.major.size\": 2.5,\n",
    "        \"ytick.major.size\": 2.5,\n",
    "        \"xtick.minor.size\": 1.5,\n",
    "        \"ytick.minor.size\": 1.5,\n",
    "        \"xtick.minor.width\": 0.2,\n",
    "        \"ytick.minor.width\": 0.2,\n",
    "        \"figure.constrained_layout.use\": True,\n",
    "        \"figure.dpi\": 200,\n",
    "    },\n",
    ")"
   ]
  },
  {
   "cell_type": "code",
   "execution_count": 37,
   "metadata": {},
   "outputs": [
    {
     "name": "stderr",
     "output_type": "stream",
     "text": [
      "/home/mila/l/leo.gagnon/explicit_implicit_icl/venv/lib/python3.10/site-packages/seaborn/_base.py:949: FutureWarning: When grouping with a length-1 list-like, you will need to pass a length-1 tuple to get_group in a future version of pandas. Pass `(name,)` instead of `name` to silence this warning.\n",
      "  data_subset = grouped_data.get_group(pd_key)\n",
      "/home/mila/l/leo.gagnon/explicit_implicit_icl/venv/lib/python3.10/site-packages/seaborn/_base.py:949: FutureWarning: When grouping with a length-1 list-like, you will need to pass a length-1 tuple to get_group in a future version of pandas. Pass `(name,)` instead of `name` to silence this warning.\n",
      "  data_subset = grouped_data.get_group(pd_key)\n",
      "/home/mila/l/leo.gagnon/explicit_implicit_icl/venv/lib/python3.10/site-packages/seaborn/_base.py:949: FutureWarning: When grouping with a length-1 list-like, you will need to pass a length-1 tuple to get_group in a future version of pandas. Pass `(name,)` instead of `name` to silence this warning.\n",
      "  data_subset = grouped_data.get_group(pd_key)\n"
     ]
    },
    {
     "data": {
      "text/plain": [
       "(0.0, 2.0)"
      ]
     },
     "execution_count": 37,
     "metadata": {},
     "output_type": "execute_result"
    },
    {
     "data": {
      "image/png": "[encoded data removed]",
      "text/plain": [
       "<Figure size 200x110 with 1 Axes>"
      ]
     },
     "metadata": {},
     "output_type": "display_data"
    }
   ],
   "source": [
    "default_model_colours = {\n",
    "    \"implicit\": sns.color_palette()[7],\n",
    "    \"explicit-transformer\": sns.color_palette()[0],\n",
    "    \"explicit-mlp\": sns.color_palette()[1],\n",
    "    \"explicit-aux-transformer\": sns.color_palette()[4],\n",
    "    \"explicit-known\": sns.color_palette()[2],\n",
    "}\n",
    "\n",
    "fig, ax = plt.subplots(figsize=(2, 1.1))\n",
    "\n",
    "sns.barplot(\n",
    "    data=data,\n",
    "    ax=ax,\n",
    "    x=\"OOD style\",\n",
    "    y=\"Counterfactual MSE\",\n",
    "    hue=\"Model\",\n",
    "    hue_order=[\"Implicit\", \"Explicit Transformer\", \"Explicit MLP\"],\n",
    "    palette=[\n",
    "        default_model_colours[m]\n",
    "        for m in [\"implicit\", \"explicit-transformer\", \"explicit-mlp\"]\n",
    "    ],\n",
    "    err_kws={\"linewidth\": 1.25},\n",
    ")\n",
    "ax.legend().remove()\n",
    "ax.set(\n",
    "    title=\"Alchemy\",\n",
    "    xlabel=\"Latent component\",\n",
    "    ylabel=r\"Counterfactual MSE ($\\uparrow$)\",\n",
    ")\n",
    "ax.set_ylim([0,2])"
   ]
  },
  {
   "cell_type": "code",
   "execution_count": null,
   "metadata": {},
   "outputs": [],
   "source": []
  }
 ],
 "metadata": {
  "kernelspec": {
   "display_name": "venv",
   "language": "python",
   "name": "python3"
  },
  "language_info": {
   "codemirror_mode": {
    "name": "ipython",
    "version": 3
   },
   "file_extension": ".py",
   "mimetype": "text/x-python",
   "name": "python",
   "nbconvert_exporter": "python",
   "pygments_lexer": "ipython3",
   "version": "3.10.11"
  }
 },
 "nbformat": 4,
 "nbformat_minor": 2
}
