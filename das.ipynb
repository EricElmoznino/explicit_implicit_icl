{
 "cells": [
  {
   "cell_type": "code",
   "execution_count": 1,
   "metadata": {},
   "outputs": [],
   "source": [
    "%load_ext autoreload\n",
    "%autoreload 2\n",
    "from transformers import PreTrainedModel, PretrainedConfig\n",
    "from transformers import AutoModel, AutoConfig, AutoTokenizer\n",
    "from omegaconf import OmegaConf\n",
    "import hydra\n",
    "from einops import repeat\n",
    "import pyvene as pv\n",
    "import torch\n",
    "import wandb\n",
    "from tasks.regression import *\n",
    "import os\n",
    "import gc\n",
    "import pandas as pd\n",
    "import seaborn as sns\n",
    "from matplotlib import pyplot as plt"
   ]
  },
  {
   "cell_type": "markdown",
   "metadata": {},
   "source": [
    "# Sandbox"
   ]
  },
  {
   "cell_type": "code",
   "execution_count": 2,
   "metadata": {},
   "outputs": [],
   "source": [
    "experiments = {\n",
    "    \"explicit-transformer\": \"1ejrnua7\",\n",
    "    \"explicit-mlp\": \"hb9li9ry\",\n",
    "    \"explicit-aux-transformer\": \"hzr77fqz\",\n",
    "    \"implicit\": \"huqr2bcp\",\n",
    "}"
   ]
  },
  {
   "cell_type": "code",
   "execution_count": 33,
   "metadata": {},
   "outputs": [],
   "source": [
    "EXP = 'implicit'"
   ]
  },
  {
   "cell_type": "code",
   "execution_count": 34,
   "metadata": {},
   "outputs": [
    {
     "name": "stderr",
     "output_type": "stream",
     "text": [
      "\u001b[34m\u001b[1mwandb\u001b[0m:   1 of 1 files downloaded.  \n"
     ]
    }
   ],
   "source": [
    "api = wandb.Api()\n",
    "run = api.run(f'leogagnon/Explicit-Implicit/runs/{experiments[EXP]}')\n",
    "artifact = api.artifact(f'leogagnon/Explicit-Implicit/model-{experiments[EXP]}:latest')\n",
    "path = artifact.download()"
   ]
  },
  {
   "cell_type": "code",
   "execution_count": 35,
   "metadata": {},
   "outputs": [],
   "source": [
    "pl_module = RegressionICL.load_from_checkpoint(\n",
    "    checkpoint_path=os.path.join(path,'model.ckpt'),\n",
    "    strict=False,\n",
    "    model=hydra.utils.instantiate(run.config['model_config']),\n",
    ").to('cuda')"
   ]
  },
  {
   "cell_type": "code",
   "execution_count": 36,
   "metadata": {},
   "outputs": [],
   "source": [
    "class MyConfig(PretrainedConfig):\n",
    "    model_type = 'mymodel'\n",
    "    def __init__(self, **kwargs):\n",
    "        super().__init__(**kwargs)\n",
    "\n",
    "class MyModel(PreTrainedModel):\n",
    "    config_class = MyConfig\n",
    "    def __init__(self, config):\n",
    "        super().__init__(config)\n",
    "        self.config = config\n",
    "        self.model = pl_module.model\n",
    "    def forward(self, x_c, y_c, x_q):\n",
    "        return self.model(x_c, y_c, x_q) "
   ]
  },
  {
   "cell_type": "code",
   "execution_count": 37,
   "metadata": {},
   "outputs": [
    {
     "data": {
      "text/plain": [
       "[0, 0, 1, 1]"
      ]
     },
     "execution_count": 37,
     "metadata": {},
     "output_type": "execute_result"
    }
   ],
   "source": [
    "[i for i in range(2) for j in range(2)]"
   ]
  },
  {
   "cell_type": "code",
   "execution_count": 38,
   "metadata": {},
   "outputs": [],
   "source": [
    "hf_model = MyModel(MyConfig())\n",
    "if EXP == \"implicit\":\n",
    "    pv_config = pv.IntervenableConfig(\n",
    "        representations=[\n",
    "            pv.RepresentationConfig(\n",
    "                component=f\"model.encoder.layers[{l}].output\",\n",
    "                intervention=pv.LowRankRotatedSpaceIntervention(\n",
    "                    embed_dim=256, low_rank_dimension=10, keep_last_dim=True\n",
    "                ),\n",
    "            )\n",
    "            for l in [2,3,5]\n",
    "        ]\n",
    "    )\n",
    "else:\n",
    "    pv_config = pv.IntervenableConfig(\n",
    "        representations=pv.RepresentationConfig(\n",
    "            component=\"model.context_model.output\",\n",
    "            intervention=pv.LowRankRotatedSpaceIntervention(\n",
    "                embed_dim=256, low_rank_dimension=10\n",
    "            ),\n",
    "        )\n",
    "    )\n",
    "pv_model = pv.IntervenableModel(config=pv_config, model=hf_model)\n",
    "pv_model.set_device(\"cuda\")"
   ]
  },
  {
   "cell_type": "code",
   "execution_count": 39,
   "metadata": {},
   "outputs": [],
   "source": [
    "datamodule = hydra.utils.instantiate(run.config['experiment_config']['experiment']['data'])"
   ]
  },
  {
   "cell_type": "code",
   "execution_count": 40,
   "metadata": {},
   "outputs": [],
   "source": [
    "val_idx = {'iid': 0, 'far': 1, 'wide': 2}\n",
    "VAL_STYLE = 'wide'"
   ]
  },
  {
   "cell_type": "code",
   "execution_count": 41,
   "metadata": {},
   "outputs": [
    {
     "name": "stdout",
     "output_type": "stream",
     "text": [
      "Train loss : 2.360770344734192\n",
      "Val loss : tensor(4.6505, device='cuda:0')\n",
      "Train loss : 0.5791825907570975\n",
      "Val loss : tensor(2.1302, device='cuda:0')\n",
      "Train loss : 0.2606759603534426\n",
      "Val loss : tensor(1.7268, device='cuda:0')\n",
      "Train loss : 0.14732533480439866\n",
      "Val loss : tensor(1.5393, device='cuda:0')\n",
      "Train loss : 0.10062737337180547\n",
      "Val loss : tensor(1.3253, device='cuda:0')\n",
      "Train loss : 0.07483400404453278\n",
      "Val loss : tensor(1.3590, device='cuda:0')\n",
      "Train loss : 0.06655098018901688\n",
      "Val loss : tensor(1.0370, device='cuda:0')\n",
      "Train loss : 0.04967491488371577\n",
      "Val loss : tensor(1.0519, device='cuda:0')\n",
      "Train loss : 0.051599811762571335\n",
      "Val loss : tensor(1.0727, device='cuda:0')\n",
      "Train loss : 0.03970677964389324\n",
      "Val loss : tensor(0.9081, device='cuda:0')\n",
      "Train loss : 0.03521640492337091\n",
      "Val loss : tensor(0.7734, device='cuda:0')\n",
      "Train loss : 0.026427481855664934\n",
      "Val loss : tensor(0.7373, device='cuda:0')\n",
      "Train loss : 0.027114037158233777\n",
      "Val loss : tensor(0.7432, device='cuda:0')\n",
      "Train loss : 0.026184880839926854\n",
      "Val loss : tensor(0.6253, device='cuda:0')\n",
      "Train loss : 0.02227629455072539\n",
      "Val loss : tensor(0.6676, device='cuda:0')\n",
      "Train loss : 0.019681723655334542\n",
      "Val loss : tensor(0.6734, device='cuda:0')\n",
      "Train loss : 0.0179298214082207\n",
      "Val loss : tensor(0.8093, device='cuda:0')\n",
      "Train loss : 0.01598755975386926\n",
      "Val loss : tensor(0.7265, device='cuda:0')\n",
      "Train loss : 0.01569007390311786\n",
      "Val loss : tensor(0.6715, device='cuda:0')\n",
      "Train loss : 0.015050479477005345\n",
      "Val loss : tensor(0.6834, device='cuda:0')\n"
     ]
    }
   ],
   "source": [
    "opt = torch.optim.Adam(pv_model.get_trainable_parameters())\n",
    "pv_model.model.eval()\n",
    "\n",
    "train_loss_traj = []\n",
    "val_loss_traj = []\n",
    "for epoch in range(20):\n",
    "    train_loss = []\n",
    "    for batch in datamodule.train_dataloader():\n",
    "        base = {\n",
    "            \"x_c\": batch[0][0].cuda(),\n",
    "            \"y_c\": batch[0][1].cuda(),\n",
    "            \"x_q\": batch[1][0].cuda(),\n",
    "        }\n",
    "        c_len = batch[0][0].shape[1]\n",
    "        bs = batch[0][0].shape[0]\n",
    "\n",
    "        # Different context, different queries, different latent\n",
    "        x_c_source, x_q_source = datamodule.train_data.sample_x(c_len)\n",
    "        w_source = datamodule.train_data.sample_function_params()\n",
    "        source = {\n",
    "            \"x_c\": x_c_source.cuda(),\n",
    "            \"y_c\": datamodule.train_data.function(x_c_source, w_source).cuda(),\n",
    "            \"x_q\": batch[1][0].cuda(),\n",
    "        }\n",
    "        loc = [[[[(c_len + i) for i in range(c_len)]] * bs] * 3] * 2\n",
    "        unit_locations = {\"sources->base\": loc} if EXP == \"implicit\" else None\n",
    "        y_q_intervened = pv_model(base, source, unit_locations=unit_locations)[1][0]\n",
    "        y_q_counterfactual = datamodule.train_data.function(\n",
    "            batch[1][0], w_source\n",
    "        ).cuda()\n",
    "\n",
    "        loss = torch.nn.functional.mse_loss(y_q_intervened, y_q_counterfactual)\n",
    "\n",
    "        loss.backward()\n",
    "        train_loss += [loss.detach().cpu().item()]\n",
    "        opt.step()\n",
    "        opt.zero_grad()\n",
    "\n",
    "    train_loss_traj += [sum(train_loss) / len(train_loss)]\n",
    "    print(\"Train loss :\", train_loss_traj[-1])\n",
    "\n",
    "    with torch.no_grad():\n",
    "        for batch in datamodule.val_dataloader()[val_idx[VAL_STYLE]]:\n",
    "            gc.collect()\n",
    "            base = {\n",
    "                \"x_c\": batch[0][0].cuda(),\n",
    "                \"y_c\": batch[0][1].cuda(),\n",
    "                \"x_q\": batch[1][0].cuda(),\n",
    "            }\n",
    "            c_len = batch[0][0].shape[1]\n",
    "            bs = batch[0][0].shape[0]\n",
    "\n",
    "            # Different context, different queries, different latent\n",
    "            x_c_source, x_q_source = datamodule.val_data[VAL_STYLE].sample_x(\n",
    "                batch[0][0].shape[1]\n",
    "            )\n",
    "            w_source = datamodule.val_data[VAL_STYLE].sample_function_params()\n",
    "            source = {\n",
    "                \"x_c\": x_c_source.cuda(),\n",
    "                \"y_c\": datamodule.val_data[VAL_STYLE]\n",
    "                .function(x_c_source, w_source)\n",
    "                .cuda(),\n",
    "                \"x_q\": batch[1][0].cuda(),\n",
    "            }\n",
    "\n",
    "            loc = [[[[(c_len + i) for i in range(c_len)]] * bs] * 3] * 2\n",
    "            unit_locations = {\"sources->base\": loc} if EXP == \"implicit\" else None\n",
    "            y_q_intervened = pv_model(base, source, unit_locations=unit_locations)[1][0]\n",
    "            y_q_counterfactual = (\n",
    "                datamodule.val_data[VAL_STYLE].function(batch[1][0], w_source).cuda()\n",
    "            )\n",
    "\n",
    "            loss = torch.nn.functional.mse_loss(y_q_intervened, y_q_counterfactual)\n",
    "            val_loss_traj += [loss.cpu().item()]\n",
    "            print(\"Val loss :\", loss)"
   ]
  },
  {
   "cell_type": "code",
   "execution_count": 24,
   "metadata": {},
   "outputs": [],
   "source": [
    "implicit_mse = val_loss_traj[-1]"
   ]
  },
  {
   "cell_type": "code",
   "execution_count": 36,
   "metadata": {},
   "outputs": [],
   "source": [
    "explicitMLP_mse = val_loss_traj[-1]"
   ]
  },
  {
   "cell_type": "code",
   "execution_count": 44,
   "metadata": {},
   "outputs": [],
   "source": [
    "explicitTSF_mse = val_loss_traj[-1]"
   ]
  },
  {
   "cell_type": "code",
   "execution_count": 45,
   "metadata": {},
   "outputs": [],
   "source": [
    "counterfactual_mse = [implicit_mse, explicitTSF_mse, explicitMLP_mse]"
   ]
  },
  {
   "cell_type": "markdown",
   "metadata": {},
   "source": [
    "# Figures"
   ]
  },
  {
   "cell_type": "code",
   "execution_count": 2,
   "metadata": {},
   "outputs": [],
   "source": [
    "experiments = {\n",
    "    \"explicit-transformer\": \"1ejrnua7\",\n",
    "    \"explicit-mlp\": \"hb9li9ry\",\n",
    "    \"explicit-aux-transformer\": \"hzr77fqz\",\n",
    "    \"implicit\": \"huqr2bcp\",\n",
    "}\n",
    "val_idx = {'iid': 0, 'far': 1, 'wide': 2}\n",
    "\n",
    "\n",
    "def val_intervention_acc(val_style, exp):\n",
    "\n",
    "    api = wandb.Api()\n",
    "    run = api.run(f'leogagnon/Explicit-Implicit/runs/{experiments[exp]}')\n",
    "    artifact = api.artifact(f'leogagnon/Explicit-Implicit/model-{experiments[exp]}:latest')\n",
    "    path = artifact.download()\n",
    "\n",
    "    pl_module = RegressionICL.load_from_checkpoint(\n",
    "        checkpoint_path=os.path.join(path,'model.ckpt'),\n",
    "        strict=False,\n",
    "        model=hydra.utils.instantiate(run.config['model_config']),\n",
    "    ).to('cuda')\n",
    "\n",
    "    class MyConfig(PretrainedConfig):\n",
    "        model_type = 'mymodel'\n",
    "        def __init__(self, **kwargs):\n",
    "            super().__init__(**kwargs)\n",
    "\n",
    "    class MyModel(PreTrainedModel):\n",
    "        config_class = MyConfig\n",
    "        def __init__(self, config):\n",
    "            super().__init__(config)\n",
    "            self.config = config\n",
    "            self.model = pl_module.model\n",
    "        def forward(self, x_c, y_c, x_q):\n",
    "            return self.model(x_c, y_c, x_q) \n",
    "\n",
    "    hf_model = MyModel(MyConfig())\n",
    "    if exp == \"implicit\":\n",
    "        pv_config = pv.IntervenableConfig(\n",
    "            representations=[\n",
    "                pv.RepresentationConfig(\n",
    "                    component=f\"model.encoder.layers[{i}].output\",\n",
    "                    intervention=pv.LowRankRotatedSpaceIntervention(\n",
    "                        embed_dim=256, low_rank_dimension=10\n",
    "                    )\n",
    "                )\n",
    "                for i in [3,5]\n",
    "            ]\n",
    "        )\n",
    "    else:\n",
    "        pv_config = pv.IntervenableConfig(\n",
    "            representations=pv.RepresentationConfig(\n",
    "                component=\"model.context_model.output\",\n",
    "                intervention=pv.LowRankRotatedSpaceIntervention(\n",
    "                    embed_dim=256, low_rank_dimension=10\n",
    "                ),\n",
    "            )\n",
    "        )\n",
    "    pv_model = pv.IntervenableModel(config=pv_config, model=hf_model)\n",
    "    pv_model.set_device(\"cuda\")\n",
    "\n",
    "    datamodule = hydra.utils.instantiate(run.config['experiment_config']['experiment']['data'])\n",
    "\n",
    "    opt = torch.optim.Adam(pv_model.get_trainable_parameters())\n",
    "    pv_model.model.eval()\n",
    "\n",
    "    train_loss_traj = []\n",
    "    val_loss_traj = []\n",
    "    for epoch in range(10):\n",
    "        train_loss = []\n",
    "        for batch in datamodule.train_dataloader():\n",
    "            base = {\n",
    "                \"x_c\": batch[0][0].cuda(),\n",
    "                \"y_c\": batch[0][1].cuda(),\n",
    "                \"x_q\": batch[1][0].cuda(),\n",
    "            }\n",
    "            c_len = batch[0][0].shape[1]\n",
    "\n",
    "            # Different context, different queries, different latent\n",
    "            x_c_source, x_q_source = datamodule.train_data.sample_x(c_len)\n",
    "            w_source = datamodule.train_data.sample_function_params()\n",
    "            source = {\n",
    "                \"x_c\": x_c_source.cuda(),\n",
    "                \"y_c\": datamodule.train_data.function(x_c_source, w_source).cuda(),\n",
    "                \"x_q\": x_q_source.cuda(),\n",
    "            }\n",
    "            unit_locations = (\n",
    "                {\"sources->base\": c_len - 1}\n",
    "                if exp == \"implicit\"\n",
    "                else None\n",
    "            )\n",
    "            y_q_intervened = pv_model(base, source, unit_locations=unit_locations)[1][0]\n",
    "            y_q_counterfactual = datamodule.train_data.function(\n",
    "                batch[1][0], w_source\n",
    "            ).cuda()\n",
    "\n",
    "            loss = torch.nn.functional.mse_loss(y_q_intervened, y_q_counterfactual)\n",
    "\n",
    "            loss.backward()\n",
    "            train_loss += [loss.detach().cpu().item()]\n",
    "            opt.step()\n",
    "            opt.zero_grad()\n",
    "\n",
    "        train_loss_traj += [sum(train_loss) / len(train_loss)]\n",
    "        print(\"Train loss :\", train_loss_traj[-1])\n",
    "        \n",
    "        with torch.no_grad():\n",
    "            for batch in datamodule.val_dataloader()[val_idx[val_style]]:\n",
    "                gc.collect()\n",
    "                base = {\n",
    "                    \"x_c\": batch[0][0].cuda(),\n",
    "                    \"y_c\": batch[0][1].cuda(),\n",
    "                    \"x_q\": batch[1][0].cuda(),\n",
    "                }\n",
    "                c_len = batch[0][0].shape[1]\n",
    "                bs = batch[0][0].shape[0]\n",
    "\n",
    "                # Different context, different queries, different latent\n",
    "                x_c_source, x_q_source = datamodule.val_data[val_style].sample_x(\n",
    "                    batch[0][0].shape[1]\n",
    "                )\n",
    "                w_source = datamodule.val_data[val_style].sample_function_params()\n",
    "                source = {\n",
    "                    \"x_c\": x_c_source.cuda(),\n",
    "                    \"y_c\": datamodule.val_data[val_style].function(x_c_source, w_source).cuda(),\n",
    "                    \"x_q\": x_q_source.cuda(),\n",
    "                }\n",
    "\n",
    "                unit_locations = (\n",
    "                    {\"sources->base\": c_len - 1}\n",
    "                    if exp == \"implicit\"\n",
    "                    else None\n",
    "                )\n",
    "                y_q_intervened = pv_model(base, source, unit_locations=unit_locations)[1][0]\n",
    "                y_q_counterfactual = (\n",
    "                    datamodule.val_data[val_style].function(batch[1][0], w_source).cuda()\n",
    "                )\n",
    "\n",
    "                loss = torch.nn.functional.mse_loss(y_q_intervened, y_q_counterfactual)\n",
    "                val_loss_traj += [loss.cpu().item()]\n",
    "                print(\"Val loss :\", loss)\n",
    "    return val_loss_traj[-1]"
   ]
  },
  {
   "cell_type": "code",
   "execution_count": 3,
   "metadata": {},
   "outputs": [],
   "source": [
    "accs = torch.zeros(2,3)"
   ]
  },
  {
   "cell_type": "code",
   "execution_count": 4,
   "metadata": {},
   "outputs": [
    {
     "name": "stderr",
     "output_type": "stream",
     "text": [
      "\u001b[34m\u001b[1mwandb\u001b[0m:   1 of 1 files downloaded.  \n"
     ]
    },
    {
     "name": "stdout",
     "output_type": "stream",
     "text": [
      "Train loss : 4.024337598255703\n",
      "Val loss : tensor(4.0520, device='cuda:0')\n",
      "Train loss : 4.033818449292864\n",
      "Val loss : tensor(3.7802, device='cuda:0')\n",
      "Train loss : 3.94673684665135\n",
      "Val loss : tensor(3.9649, device='cuda:0')\n",
      "Train loss : 3.9697680473327637\n",
      "Val loss : tensor(3.9604, device='cuda:0')\n",
      "Train loss : 3.4926356928689137\n",
      "Val loss : tensor(3.8379, device='cuda:0')\n",
      "Train loss : 3.6506108897072926\n",
      "Val loss : tensor(3.9779, device='cuda:0')\n",
      "Train loss : 3.437436206000192\n",
      "Val loss : tensor(3.8513, device='cuda:0')\n",
      "Train loss : 3.727624007633754\n",
      "Val loss : tensor(3.6758, device='cuda:0')\n",
      "Train loss : 3.6364054339272633\n",
      "Val loss : tensor(3.8207, device='cuda:0')\n",
      "Train loss : 3.5938139983585904\n",
      "Val loss : tensor(3.9750, device='cuda:0')\n"
     ]
    },
    {
     "name": "stderr",
     "output_type": "stream",
     "text": [
      "\u001b[34m\u001b[1mwandb\u001b[0m:   1 of 1 files downloaded.  \n",
      "/home/mila/l/leo.gagnon/explicit_implicit_icl/venv/lib/python3.10/site-packages/pytorch_lightning/core/saving.py:177: Found keys that are not in the model state dict but in the checkpoint: ['w_predictor.weight', 'w_predictor.bias']\n"
     ]
    },
    {
     "name": "stdout",
     "output_type": "stream",
     "text": [
      "Train loss : 3.446636234010969\n",
      "Val loss : tensor(2.4140, device='cuda:0')\n",
      "Train loss : 1.9004792826516288\n",
      "Val loss : tensor(1.1627, device='cuda:0')\n",
      "Train loss : 0.7949495698724475\n",
      "Val loss : tensor(0.4690, device='cuda:0')\n",
      "Train loss : 0.3604810833930969\n",
      "Val loss : tensor(0.2756, device='cuda:0')\n",
      "Train loss : 0.23568803071975708\n",
      "Val loss : tensor(0.1647, device='cuda:0')\n",
      "Train loss : 0.16690210040126527\n",
      "Val loss : tensor(0.1092, device='cuda:0')\n",
      "Train loss : 0.10355858717645917\n",
      "Val loss : tensor(0.0776, device='cuda:0')\n",
      "Train loss : 0.07508943070258413\n",
      "Val loss : tensor(0.0529, device='cuda:0')\n",
      "Train loss : 0.05271272201623235\n",
      "Val loss : tensor(0.0363, device='cuda:0')\n",
      "Train loss : 0.03226178086229733\n",
      "Val loss : tensor(0.0285, device='cuda:0')\n"
     ]
    },
    {
     "name": "stderr",
     "output_type": "stream",
     "text": [
      "\u001b[34m\u001b[1mwandb\u001b[0m:   1 of 1 files downloaded.  \n"
     ]
    },
    {
     "name": "stdout",
     "output_type": "stream",
     "text": [
      "Train loss : 3.290755646569388\n",
      "Val loss : tensor(2.2651, device='cuda:0')\n",
      "Train loss : 1.4154254964419775\n",
      "Val loss : tensor(0.6661, device='cuda:0')\n",
      "Train loss : 0.3825739004782268\n",
      "Val loss : tensor(0.1407, device='cuda:0')\n",
      "Train loss : 0.09883243324501174\n",
      "Val loss : tensor(0.0549, device='cuda:0')\n",
      "Train loss : 0.0493414332824094\n",
      "Val loss : tensor(0.0295, device='cuda:0')\n",
      "Train loss : 0.034365223720669746\n",
      "Val loss : tensor(0.0330, device='cuda:0')\n",
      "Train loss : 0.02900675604385989\n",
      "Val loss : tensor(0.0232, device='cuda:0')\n",
      "Train loss : 0.023743413920913423\n",
      "Val loss : tensor(0.0214, device='cuda:0')\n",
      "Train loss : 0.02177684647696359\n",
      "Val loss : tensor(0.0225, device='cuda:0')\n",
      "Train loss : 0.020623056750212396\n",
      "Val loss : tensor(0.0229, device='cuda:0')\n"
     ]
    },
    {
     "name": "stderr",
     "output_type": "stream",
     "text": [
      "\u001b[34m\u001b[1mwandb\u001b[0m:   1 of 1 files downloaded.  \n"
     ]
    },
    {
     "name": "stdout",
     "output_type": "stream",
     "text": [
      "Train loss : 4.11581335748945\n",
      "Val loss : tensor(17.9490, device='cuda:0')\n",
      "Train loss : 3.9308266980307445\n",
      "Val loss : tensor(19.3688, device='cuda:0')\n",
      "Train loss : 3.823661736079625\n",
      "Val loss : tensor(18.1217, device='cuda:0')\n",
      "Train loss : 3.6966682161603654\n",
      "Val loss : tensor(16.9154, device='cuda:0')\n",
      "Train loss : 3.8508084501538957\n",
      "Val loss : tensor(19.1892, device='cuda:0')\n",
      "Train loss : 3.969435146876744\n",
      "Val loss : tensor(19.1610, device='cuda:0')\n",
      "Train loss : 3.8310398374285017\n",
      "Val loss : tensor(18.3594, device='cuda:0')\n",
      "Train loss : 3.937988451548985\n",
      "Val loss : tensor(17.5495, device='cuda:0')\n",
      "Train loss : 3.768394572394235\n",
      "Val loss : tensor(17.9958, device='cuda:0')\n",
      "Train loss : 3.5705741133008684\n",
      "Val loss : tensor(18.6635, device='cuda:0')\n"
     ]
    },
    {
     "name": "stderr",
     "output_type": "stream",
     "text": [
      "\u001b[34m\u001b[1mwandb\u001b[0m:   1 of 1 files downloaded.  \n"
     ]
    },
    {
     "name": "stdout",
     "output_type": "stream",
     "text": [
      "Train loss : 3.33322879246303\n",
      "Val loss : tensor(14.2756, device='cuda:0')\n",
      "Train loss : 2.0482957533427646\n",
      "Val loss : tensor(7.9235, device='cuda:0')\n",
      "Train loss : 0.7177146417754037\n",
      "Val loss : tensor(3.1705, device='cuda:0')\n",
      "Train loss : 0.3052448460033962\n",
      "Val loss : tensor(2.0574, device='cuda:0')\n",
      "Train loss : 0.21961437804358347\n",
      "Val loss : tensor(1.4731, device='cuda:0')\n",
      "Train loss : 0.14852994041783468\n",
      "Val loss : tensor(1.1051, device='cuda:0')\n",
      "Train loss : 0.13018440987382615\n",
      "Val loss : tensor(1.0032, device='cuda:0')\n",
      "Train loss : 0.08671165257692337\n",
      "Val loss : tensor(0.5897, device='cuda:0')\n",
      "Train loss : 0.04791956075600216\n",
      "Val loss : tensor(0.5229, device='cuda:0')\n",
      "Train loss : 0.04362349824181625\n",
      "Val loss : tensor(0.5376, device='cuda:0')\n"
     ]
    },
    {
     "name": "stderr",
     "output_type": "stream",
     "text": [
      "\u001b[34m\u001b[1mwandb\u001b[0m:   1 of 1 files downloaded.  \n"
     ]
    },
    {
     "name": "stdout",
     "output_type": "stream",
     "text": [
      "Train loss : 3.0130525657108853\n",
      "Val loss : tensor(9.8643, device='cuda:0')\n",
      "Train loss : 1.2083297201565333\n",
      "Val loss : tensor(2.7634, device='cuda:0')\n",
      "Train loss : 0.28862021224839346\n",
      "Val loss : tensor(1.0503, device='cuda:0')\n",
      "Train loss : 0.0788776885185923\n",
      "Val loss : tensor(0.6031, device='cuda:0')\n",
      "Train loss : 0.04510364548436233\n",
      "Val loss : tensor(0.4247, device='cuda:0')\n",
      "Train loss : 0.029282756948045323\n",
      "Val loss : tensor(0.4210, device='cuda:0')\n",
      "Train loss : 0.025934356397816112\n",
      "Val loss : tensor(0.3175, device='cuda:0')\n",
      "Train loss : 0.02336400587643896\n",
      "Val loss : tensor(0.3673, device='cuda:0')\n",
      "Train loss : 0.02277025327618633\n",
      "Val loss : tensor(0.3855, device='cuda:0')\n",
      "Train loss : 0.018095331000430242\n",
      "Val loss : tensor(0.3093, device='cuda:0')\n"
     ]
    }
   ],
   "source": [
    "for i, v in enumerate([\"iid\", \"wide\"]):\n",
    "    for j, e in enumerate([\"implicit\", \"explicit-transformer\", \"explicit-mlp\"]):\n",
    "        accs[i, j] = val_intervention_acc(v, e)"
   ]
  },
  {
   "cell_type": "code",
   "execution_count": 5,
   "metadata": {},
   "outputs": [],
   "source": [
    "data = pd.melt(\n",
    "    pd.DataFrame(accs).reset_index(),\n",
    "    id_vars=\"index\",\n",
    "    var_name=\"Model\",\n",
    "    value_name=\"value\",\n",
    ")\n",
    "data.rename(columns={\"index\": \"OOD style\"}, inplace=True)\n",
    "data.rename(columns={\"value\": \"Counterfactual MSE\"}, inplace=True)\n",
    "\n",
    "data['Model'] = data['Model'].map({0: 'Implicit', 1: 'Explicit Transformer', 2: 'Explicit MLP'})\n",
    "data['OOD style'] = data['OOD style'].map({0: 'IID', 1: 'OOD',})"
   ]
  },
  {
   "cell_type": "code",
   "execution_count": 7,
   "metadata": {},
   "outputs": [],
   "source": [
    "# Style for making nice-looking paper plots with page-scale figure size units\n",
    "sns.set_theme(\n",
    "    style=\"ticks\",\n",
    "    context=\"paper\",\n",
    "    rc={\n",
    "        \"font.size\": 5,\n",
    "        \"axes.titlesize\": 6,\n",
    "        \"axes.labelsize\": 6,\n",
    "        \"axes.labelpad\": 2,\n",
    "        \"xtick.labelsize\": 4.5,\n",
    "        \"ytick.labelsize\": 4.5,\n",
    "        \"legend.title_fontsize\": 4.5,\n",
    "        \"legend.fontsize\": 4.5,\n",
    "        \"legend.markerscale\": 0.5,\n",
    "        \"axes.spines.top\": False,\n",
    "        \"axes.spines.right\": False,\n",
    "        \"axes.linewidth\": 0.4,\n",
    "        \"xtick.major.width\": 0.4,\n",
    "        \"ytick.major.width\": 0.4,\n",
    "        \"xtick.major.size\": 2.5,\n",
    "        \"ytick.major.size\": 2.5,\n",
    "        \"xtick.minor.size\": 1.5,\n",
    "        \"ytick.minor.size\": 1.5,\n",
    "        \"xtick.minor.width\": 0.2,\n",
    "        \"ytick.minor.width\": 0.2,\n",
    "        \"figure.constrained_layout.use\": True,\n",
    "        \"figure.dpi\": 200,\n",
    "    },\n",
    ")"
   ]
  },
  {
   "cell_type": "code",
   "execution_count": 12,
   "metadata": {},
   "outputs": [
    {
     "name": "stderr",
     "output_type": "stream",
     "text": [
      "/home/mila/l/leo.gagnon/explicit_implicit_icl/venv/lib/python3.10/site-packages/seaborn/_base.py:949: FutureWarning: When grouping with a length-1 list-like, you will need to pass a length-1 tuple to get_group in a future version of pandas. Pass `(name,)` instead of `name` to silence this warning.\n",
      "  data_subset = grouped_data.get_group(pd_key)\n",
      "/home/mila/l/leo.gagnon/explicit_implicit_icl/venv/lib/python3.10/site-packages/seaborn/_base.py:949: FutureWarning: When grouping with a length-1 list-like, you will need to pass a length-1 tuple to get_group in a future version of pandas. Pass `(name,)` instead of `name` to silence this warning.\n",
      "  data_subset = grouped_data.get_group(pd_key)\n",
      "/home/mila/l/leo.gagnon/explicit_implicit_icl/venv/lib/python3.10/site-packages/seaborn/_base.py:949: FutureWarning: When grouping with a length-1 list-like, you will need to pass a length-1 tuple to get_group in a future version of pandas. Pass `(name,)` instead of `name` to silence this warning.\n",
      "  data_subset = grouped_data.get_group(pd_key)\n"
     ]
    },
    {
     "data": {
      "text/plain": [
       "(0.0, 10.0)"
      ]
     },
     "execution_count": 12,
     "metadata": {},
     "output_type": "execute_result"
    },
    {
     "data": {
      "image/png": "[encoded data removed]",
      "text/plain": [
       "<Figure size 400x220 with 1 Axes>"
      ]
     },
     "metadata": {},
     "output_type": "display_data"
    }
   ],
   "source": [
    "default_model_colours = {\n",
    "    \"implicit\": sns.color_palette()[7],\n",
    "    \"explicit-transformer\": sns.color_palette()[0],\n",
    "    \"explicit-mlp\": sns.color_palette()[1],\n",
    "    \"explicit-aux-transformer\": sns.color_palette()[4],\n",
    "    \"explicit-known\": sns.color_palette()[2],\n",
    "}\n",
    "\n",
    "fig, ax = plt.subplots(figsize=(2, 1.1))\n",
    "\n",
    "sns.barplot(\n",
    "    data=data,\n",
    "    ax=ax,\n",
    "    x=\"OOD style\",\n",
    "    y=\"Counterfactual MSE\",\n",
    "    hue=\"Model\",\n",
    "    hue_order=[\"Implicit\", \"Explicit Transformer\", \"Explicit MLP\"],\n",
    "    palette=[\n",
    "        default_model_colours[m]\n",
    "        for m in [\"implicit\", \"explicit-transformer\", \"explicit-mlp\"]\n",
    "    ],\n",
    "    err_kws={\"linewidth\": 1.25},\n",
    ")\n",
    "ax.legend().remove()\n",
    "ax.set(\n",
    "    title=\"Linear regression interventions\",\n",
    "    xlabel=\"Validation data\",\n",
    "    ylabel=r\"Counterfactual MSE ($\\downarrow$)\",\n",
    ")\n",
    "ax.set_ylim([0,10])"
   ]
  },
  {
   "cell_type": "code",
   "execution_count": null,
   "metadata": {},
   "outputs": [],
   "source": []
  }
 ],
 "metadata": {
  "kernelspec": {
   "display_name": "venv",
   "language": "python",
   "name": "python3"
  },
  "language_info": {
   "codemirror_mode": {
    "name": "ipython",
    "version": 3
   },
   "file_extension": ".py",
   "mimetype": "text/x-python",
   "name": "python",
   "nbconvert_exporter": "python",
   "pygments_lexer": "ipython3",
   "version": "3.10.11"
  }
 },
 "nbformat": 4,
 "nbformat_minor": 2
}
