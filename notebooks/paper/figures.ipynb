{
 "cells": [
  {
   "cell_type": "markdown",
   "metadata": {},
   "source": [
    "# Instructions"
   ]
  },
  {
   "cell_type": "markdown",
   "metadata": {},
   "source": [
    "We pull data from the Weights & Biases API and generate plots. Plots can be combined together into a multi-panel figures manually in Keynote for best control over arrangement (see `notebooks/paper/figure_panels.key`). The documentation for the Weights & Biases API function that fetches runs can be found [here](https://docs.wandb.ai/ref/python/public-api/api#runs), but you shouldn't need it if you use the helper functions below."
   ]
  },
  {
   "cell_type": "code",
   "execution_count": 58,
   "metadata": {},
   "outputs": [],
   "source": [
    "from typing import Literal, Any\n",
    "import os\n",
    "import numpy as np\n",
    "import pandas as pd\n",
    "from matplotlib import pyplot as plt\n",
    "import seaborn as sns\n",
    "import wandb\n",
    "\n",
    "# Style for making nice-looking paper plots with page-scale figure size units\n",
    "sns.set(\n",
    "    style=\"ticks\",\n",
    "    context=\"paper\",\n",
    "    rc={\n",
    "        \"font.size\": 6,\n",
    "        \"axes.titlesize\": 7,\n",
    "        \"axes.labelsize\": 7,\n",
    "        \"axes.labelpad\": 2,\n",
    "        \"xtick.labelsize\": 5,\n",
    "        \"ytick.labelsize\": 5,\n",
    "        \"legend.title_fontsize\": 5.5,\n",
    "        \"legend.fontsize\": 5.5,\n",
    "        \"legend.markerscale\": 0.5,\n",
    "        \"axes.spines.top\": False,\n",
    "        \"axes.spines.right\": False,\n",
    "        \"axes.linewidth\": 0.4,\n",
    "        \"xtick.major.width\": 0.4,\n",
    "        \"ytick.major.width\": 0.4,\n",
    "        \"xtick.major.size\": 2.5,\n",
    "        \"ytick.major.size\": 2.5,\n",
    "        \"xtick.minor.size\": 1.5,\n",
    "        \"ytick.minor.size\": 1.5,\n",
    "        \"xtick.minor.width\": 0.2,\n",
    "        \"ytick.minor.width\": 0.2,\n",
    "        \"figure.constrained_layout.use\": True,\n",
    "        \"figure.dpi\": 200,\n",
    "    },\n",
    ")\n",
    "\n",
    "api = wandb.Api()"
   ]
  },
  {
   "cell_type": "markdown",
   "metadata": {},
   "source": [
    "# Helper functions"
   ]
  },
  {
   "cell_type": "code",
   "execution_count": 108,
   "metadata": {},
   "outputs": [],
   "source": [
    "# API querying\n",
    "\n",
    "\n",
    "def get_run_performances(\n",
    "    wandb_username: str,\n",
    "    dataset: str,\n",
    "    compare_across: list[str],\n",
    "    comparison_metrics: list[str],  # Note, first one is used for selecting best epoch\n",
    "    filters: dict[str, Any],\n",
    "    best_epoch: bool = True,\n",
    "    group_comparison: Literal[\"mean\", \"median\"] = \"mean\",\n",
    "    save_path: str = None,\n",
    ") -> pd.DataFrame:\n",
    "    # If data has already been downloaded, don't make another API call\n",
    "    if os.path.exists(save_path):\n",
    "        return pd.read_csv(save_path)\n",
    "\n",
    "    # Fetch all run data from the API\n",
    "    runs = api.runs(\n",
    "        f\"{wandb_username}/Explicit-Implicit\",\n",
    "        filters={\"config.dataset\": dataset, **filters},\n",
    "    )\n",
    "\n",
    "    # Collect all of the run histories into a dataframe\n",
    "    data = []\n",
    "    for run in runs:\n",
    "        comparison_vals = {k: run.config[k] for k in compare_across}\n",
    "        run_data = run.history(samples=1000000, x_axis=\"epoch\", keys=comparison_metrics)\n",
    "        run_data = run_data.assign(**comparison_vals)\n",
    "        data.append(run_data)\n",
    "    data = pd.concat(data)\n",
    "\n",
    "    # For each candidate, find the best performance over the course of training.\n",
    "    # If there are multiple runs with the same `compare_across` values (e.g., different seeds),\n",
    "    # then we take the best aggregate performance.\n",
    "    if best_epoch:\n",
    "        # fmt: off\n",
    "        def best_epoch_results(group_data):\n",
    "            epoch_agg = group_data.groupby(\"epoch\")[comparison_metrics[0]].agg(group_comparison)\n",
    "            best_epoch = epoch_agg.argmax()\n",
    "            best_epoch_data = group_data[group_data[\"epoch\"] == best_epoch]\n",
    "            return best_epoch_data\n",
    "        data = data.groupby(compare_across).apply(best_epoch_results)\n",
    "        data = data.reset_index(drop=True)\n",
    "        # fmt: on\n",
    "\n",
    "    if save_path is not None:\n",
    "        data.to_csv(save_path, index=False)\n",
    "    return data\n",
    "\n",
    "\n",
    "# Plotting\n",
    "default_model_order = [\n",
    "    \"implicit\",\n",
    "    \"explicit-transformer\",\n",
    "    \"explicit-mlp\",\n",
    "    \"explicit-known\",\n",
    "]\n",
    "default_model_colours = {\n",
    "    \"implicit\": sns.color_palette()[7],\n",
    "    \"explicit-transformer\": sns.color_palette()[0],\n",
    "    \"explicit-mlp\": sns.color_palette()[1],\n",
    "    \"explicit-known\": sns.color_palette()[2],\n",
    "}\n",
    "default_model_short_names = {\n",
    "    \"implicit\": \"Implicit\",\n",
    "    \"explicit-transformer\": \"Explicit - Transformer\",\n",
    "    \"explicit-mlp\": \"Explicit - MLP\",\n",
    "    \"explicit-known\": \"Explicit - Known\",\n",
    "}\n",
    "\n",
    "\n",
    "def model_comparison_barplot(\n",
    "    data: pd.DataFrame,\n",
    "    metrics: str | list[str],\n",
    "    metric_short_names: dict[str, str],\n",
    "    metric_units: str,\n",
    "    ax: plt.Axes,\n",
    "    model_order: list[str] = default_model_order,\n",
    "    model_colours: dict[str, Any] = default_model_colours,\n",
    "    model_short_names: dict[str, str] = default_model_short_names,\n",
    "    errorbar: str = \"minmax\",\n",
    "    **kwargs,\n",
    "):\n",
    "    # Check argument correctness\n",
    "    models = data[\"model\"].unique()\n",
    "    for m in models:\n",
    "        assert m in model_order and m in model_colours and m in model_short_names\n",
    "    model_order = [m for m in model_order if m in models]\n",
    "    if isinstance(metrics, str):\n",
    "        metrics = [metrics]\n",
    "    errorbar = (lambda x: (x.min(), x.max())) if errorbar == \"minmax\" else errorbar\n",
    "\n",
    "    # Reorganize data\n",
    "    data = data.rename(columns={m: metric_short_names[m] for m in metrics})\n",
    "    data[\"model\"] = data[\"model\"].map(model_short_names)\n",
    "    model_colours = [model_colours[m] for m in model_order]\n",
    "    model_order = [model_short_names[m] for m in model_order]\n",
    "    data = data.melt(\n",
    "        id_vars=[\"model\"],\n",
    "        value_vars=metric_short_names.values(),\n",
    "        var_name=\"metric\",\n",
    "        value_name=metric_units,\n",
    "    )\n",
    "\n",
    "    # Make the plot\n",
    "    sns.barplot(\n",
    "        data=data,\n",
    "        ax=ax,\n",
    "        x=\"metric\",\n",
    "        y=metric_units,\n",
    "        hue=\"model\",\n",
    "        hue_order=model_order,\n",
    "        palette=model_colours,\n",
    "        errorbar=errorbar,\n",
    "        **kwargs,\n",
    "    )\n",
    "    ax.set(xlabel=\"\")\n",
    "    ax.legend()\n",
    "\n",
    "    return ax"
   ]
  },
  {
   "cell_type": "markdown",
   "metadata": {},
   "source": [
    "# Raven's Progressive Matrices"
   ]
  },
  {
   "cell_type": "markdown",
   "metadata": {},
   "source": [
    "### Model comparison"
   ]
  },
  {
   "cell_type": "code",
   "execution_count": 125,
   "metadata": {},
   "outputs": [
    {
     "data": {
      "image/png": "[encoded data removed]",
      "text/plain": [
       "<Figure size 350x260 with 1 Axes>"
      ]
     },
     "metadata": {},
     "output_type": "display_data"
    }
   ],
   "source": [
    "data = get_run_performances(\n",
    "    wandb_username=\"ericelmoznino\",\n",
    "    dataset=\"raven\",\n",
    "    compare_across=[\"model\"],\n",
    "    comparison_metrics=[\"val_iid/accuracy\", \"val_ood/accuracy\"],\n",
    "    filters={\n",
    "        \"config.setting\": \"inpo\",\n",
    "        \"tags\": {\n",
    "            \"$nin\": [\"implicit_sweep\", \"explicit_tsf_sweep\", \"explicit_mlp_sweep\"]\n",
    "        },\n",
    "    },\n",
    "    save_path=\"data/raven_comparison.csv\",\n",
    ")\n",
    "\n",
    "fig, ax = plt.subplots(figsize=(1.75, 1.3))\n",
    "model_comparison_barplot(\n",
    "    data=data,\n",
    "    metrics=[\"val_iid/accuracy\", \"val_ood/accuracy\"],\n",
    "    metric_short_names={\"val_iid/accuracy\": \"IID\", \"val_ood/accuracy\": \"OOD\"},\n",
    "    metric_units=\"Accuracy\",\n",
    "    ax=ax,\n",
    ")\n",
    "ax.set(ylim=(0.95, 1.0), title=\"Raven's Progressive Matrices\")\n",
    "ax.legend(loc=\"upper right\").remove()\n",
    "fig.savefig(\"saved/raven_model_comparison.pdf\")\n",
    "plt.show()"
   ]
  },
  {
   "cell_type": "markdown",
   "metadata": {},
   "source": [
    "### Rule decoding"
   ]
  }
 ],
 "metadata": {
  "kernelspec": {
   "display_name": "pytorch",
   "language": "python",
   "name": "python3"
  },
  "language_info": {
   "codemirror_mode": {
    "name": "ipython",
    "version": 3
   },
   "file_extension": ".py",
   "mimetype": "text/x-python",
   "name": "python",
   "nbconvert_exporter": "python",
   "pygments_lexer": "ipython3",
   "version": "3.11.4"
  }
 },
 "nbformat": 4,
 "nbformat_minor": 2
}
