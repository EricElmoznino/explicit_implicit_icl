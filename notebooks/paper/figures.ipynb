{
 "cells": [
  {
   "cell_type": "markdown",
   "metadata": {},
   "source": [
    "# Instructions"
   ]
  },
  {
   "cell_type": "markdown",
   "metadata": {},
   "source": [
    "We pull data from the Weights & Biases API and generate plots. Plots can be combined together into a multi-panel figures manually in Keynote for best control over arrangement (see `notebooks/paper/figure_panels.key`). The documentation for the Weights & Biases API function that fetches runs can be found [here](https://docs.wandb.ai/ref/python/public-api/api#runs), but you shouldn't need it if you use the helper functions below."
   ]
  },
  {
   "cell_type": "code",
   "execution_count": 1,
   "metadata": {},
   "outputs": [],
   "source": [
    "from typing import Literal, Any\n",
    "import os\n",
    "import numpy as np\n",
    "import pandas as pd\n",
    "from matplotlib import pyplot as plt\n",
    "import seaborn as sns\n",
    "import wandb\n",
    "\n",
    "# Style for making nice-looking paper plots with page-scale figure size units\n",
    "sns.set(\n",
    "    \n",
    "    style=\"ticks\",\n",
    "    context=\"paper\",\n",
    "    rc={\n",
    "        \"font.size\": 5,\n",
    "        \"axes.titlesize\": 6,\n",
    "        \"axes.labelsize\": 6,\n",
    "        \"axes.labelpad\": 2,\n",
    "        \"xtick.labelsize\": 4.5,\n",
    "        \"ytick.labelsize\": 4.5,\n",
    "        \"legend.title_fontsize\": 4.5,\n",
    "        \"legend.fontsize\": 4.5,\n",
    "        \"legend.markerscale\": 0.5,\n",
    "        \"axes.spines.top\": False,\n",
    "        \"axes.spines.right\": False,\n",
    "        \"axes.linewidth\": 0.4,\n",
    "        \"xtick.major.width\": 0.4,\n",
    "        \"ytick.major.width\": 0.4,\n",
    "        \"xtick.major.size\": 2.5,\n",
    "        \"ytick.major.size\": 2.5,\n",
    "        \"xtick.minor.size\": 1.5,\n",
    "        \"ytick.minor.size\": 1.5,\n",
    "        \"xtick.minor.width\": 0.2,\n",
    "        \"ytick.minor.width\": 0.2,\n",
    "        \"figure.constrained_layout.use\": True,\n",
    "        \"figure.dpi\": 200,\n",
    "    },\n",
    ")\n",
    "\n",
    "api = wandb.Api()"
   ]
  },
  {
   "cell_type": "markdown",
   "metadata": {},
   "source": [
    "# Helper functions"
   ]
  },
  {
   "cell_type": "code",
   "execution_count": 2,
   "metadata": {},
   "outputs": [],
   "source": [
    "# API querying\n",
    "def get_run_performances(\n",
    "    wandb_username: str,\n",
    "    dataset: str,\n",
    "    compare_across: list[str],\n",
    "    comparison_metrics: list[str],\n",
    "    filters: dict[str, Any],\n",
    "    best_epoch: bool = True,\n",
    "    mode: Literal[\"min\", \"max\"] = \"max\",\n",
    "    group_comparison: Literal[\"mean\", \"median\"] = \"mean\",\n",
    "    save_path: str = None,\n",
    "    wandb_project: str = \"Explicit-Implicit\",\n",
    ") -> pd.DataFrame:\n",
    "    \"\"\"Pulls data from the W&B API and returns a dataframe with either the best epoch performance for each run\n",
    "    (when `best_epoch=True`) or the entire training trajectory across runs (when `best_epoch=False`).\n",
    "\n",
    "    Args:\n",
    "        wandb_username (str): Your W&B username.\n",
    "        dataset (str): The identity of the task dataset you're querying (specified in the experiment config).\n",
    "        compare_across (list[str]): List of attributes you want to compare across (e.g., [\"model\", \"x_dim\"]). Runs that have the same values for these attributes will be averaged over (hopefully just the seed!). These attributes are things that show up in the W&B config.\n",
    "        comparison_metrics (list[str]): Metrics that you want to compare across runs. These are W&B metric names. Note that the first metric in the list is used for selecting the best epoch.\n",
    "        filters (dict[str, Any]): W&B API filters used to select only a subset of runs. See code below for examples.\n",
    "        best_epoch (bool, optional): Whether to select metrics only at the best epoch of each run, or return the entire training trajectory. Defaults to `True`.\n",
    "        mode (Literal[&quot;min&quot;, &quot;max&quot;], optional): Whether smaller values are better for the metric (e.g., MSE) or larger values are (e.g., accuracy). Defaults to `\"max\"`.\n",
    "        group_comparison (Literal[&quot;mean&quot;, &quot;median&quot;], optional): How to aggregate metrics within groups (e.g., across seeds for a given model) in order to pick the best epoch. Defaults to `\"mean\"`.\n",
    "        save_path (str, optional): Optionally save the resulting dataframe. Note that if the file already exists, we retrieve its data and return that rather than querying the API. Defaults to `None`.\n",
    "        wandb_project (str, optional): Name of the W&B project that the runs are in. Defaults to `\"Explicit-Implicit\"`.\n",
    "\n",
    "    Returns:\n",
    "        pd.DataFrame: Dataframe of results. It contains the run id, the `compare_across` values, the `comparison_metrics` metrics, and the epoch.\n",
    "    \"\"\"\n",
    "    # If data has already been downloaded, don't make another API call\n",
    "    if os.path.exists(save_path):\n",
    "        print(f\"Loading from cached file {save_path}...\")\n",
    "        data = pd.read_csv(save_path)\n",
    "        data.replace('imlicit', 'implicit', inplace=True)\n",
    "        if 'val/Accuracy/dataloader_idx_0' in list(data.columns.values):\n",
    "            data['val/iid_Accuracy'] = data['val/Accuracy/dataloader_idx_0']\n",
    "            data['val/far_Accuracy'] = data['val/Accuracy/dataloader_idx_1']\n",
    "            data['val/wide_Accuracy'] = data['val/Accuracy/dataloader_idx_2']\n",
    "        return data\n",
    "\n",
    "    if wandb_project == \"mesa-opt-alchemy\":\n",
    "        alchemy_models = {\n",
    "            \"implicit\": [\"3udju5nr\", \"62rdiupe\", \"jk9sk4lq\"],\n",
    "            \"explicit-transformer\": [\"qplfaq96\", \"zb3y9jca\", \"hhovr0xq\"],\n",
    "            \"explicit-mlp\": [\"0xucpplr\", \"p9h6phu6\", \"79vvovut\"],\n",
    "        }\n",
    "        data = []\n",
    "        for model in alchemy_models.keys():\n",
    "            runs = wandb.Api().runs(\n",
    "                \"leogagnon/mesa-opt-alchemy\",\n",
    "                filters={\"name\": {\"$in\": alchemy_models[model]}},\n",
    "            )  # name instead of ID\n",
    "            for run in runs:\n",
    "                run_data = run.history(\n",
    "                    samples=2000, x_axis=\"epoch\", keys=comparison_metrics\n",
    "                )\n",
    "                run_data = run_data.assign(model=model)\n",
    "                data.append(run_data)\n",
    "        data = pd.concat(data)\n",
    "    else:\n",
    "        # Fetch all run data from the API\n",
    "        runs = api.runs(\n",
    "            f\"{wandb_username}/{wandb_project}\",\n",
    "            filters={\"config.dataset\": dataset, **filters},\n",
    "        )\n",
    "\n",
    "        # Collect all of the run histories into a dataframe\n",
    "        data = []\n",
    "        for run in runs:\n",
    "            comparison_vals = {k: run.config[k] for k in compare_across}\n",
    "            run_data = run.history(\n",
    "                samples=1000000, x_axis=\"epoch\", keys=comparison_metrics\n",
    "            )\n",
    "            run_data = run_data.assign(run_id=run.id, **comparison_vals)\n",
    "            data.append(run_data)\n",
    "        data = pd.concat(data)\n",
    "\n",
    "    # For each candidate, find the best performance over the course of training.\n",
    "    # If there are multiple runs with the same `compare_across` values (e.g., different seeds),\n",
    "    # then we take the best aggregate performance.\n",
    "    if best_epoch:\n",
    "        # fmt: off\n",
    "        def best_epoch_results(group_data):\n",
    "            epoch_agg = group_data.groupby(\"epoch\")[comparison_metrics[0]].agg(group_comparison)\n",
    "            best_epoch = epoch_agg.argmax() if mode == \"max\" else epoch_agg.argmin()\n",
    "            best_epoch_data = group_data[group_data[\"epoch\"] == best_epoch]\n",
    "            return best_epoch_data\n",
    "        data = data.groupby(compare_across).apply(best_epoch_results)\n",
    "        data = data.reset_index(drop=True)\n",
    "        # fmt: on\n",
    "\n",
    "    data = data[[\"run_id\", \"epoch\"] + compare_across + comparison_metrics]\n",
    "    if save_path is not None:\n",
    "        data.to_csv(save_path, index=False)\n",
    "    return data\n",
    "\n",
    "\n",
    "# Plotting\n",
    "\n",
    "\n",
    "default_model_order = [\n",
    "    \"implicit\",\n",
    "    \"explicit-transformer\",\n",
    "    \"explicit-mlp\",\n",
    "    \"explicit-known\",\n",
    "]\n",
    "default_model_colours = {\n",
    "    \"implicit\": sns.color_palette()[7],\n",
    "    \"explicit-transformer\": sns.color_palette()[0],\n",
    "    \"explicit-mlp\": sns.color_palette()[1],\n",
    "    \"explicit-known\": sns.color_palette()[2],\n",
    "}\n",
    "default_model_short_names = {\n",
    "    \"implicit\": \"Implicit\",\n",
    "    \"explicit-transformer\": \"Explicit - Transformer\",\n",
    "    \"explicit-mlp\": \"Explicit - MLP\",\n",
    "    \"explicit-known\": \"Explicit - Known\",\n",
    "}\n",
    "\n",
    "\n",
    "def model_comparison_barplot(\n",
    "    data: pd.DataFrame,\n",
    "    metrics: str | list[str],\n",
    "    metric_short_names: dict[str, str],\n",
    "    metric_units: str,\n",
    "    ax: plt.Axes,\n",
    "    model_order: list[str] = default_model_order,\n",
    "    model_colours: dict[str, Any] = default_model_colours,\n",
    "    model_short_names: dict[str, str] = default_model_short_names,\n",
    "    errorbar: str = \"minmax\",\n",
    "    **kwargs,\n",
    ") -> plt.Axes:\n",
    "    \"\"\"Convenience function to generate a barplot comparing models on a set of metrics. Metrics correspond to x-ticks, models correspond to bar colours.\n",
    "\n",
    "    Args:\n",
    "        data (pd.DataFrame): Dataframe of model performances, generally obtained from `get_run_performances()`.\n",
    "        metrics (str | list[str]): Metrics along which to compare models. These will be x-ticks in the barplot.\n",
    "        metric_short_names (dict[str, str]): Mapping from raw metric names to desired display names in the plot.\n",
    "        metric_units (str): Units of the metrics, to be displayed on the y-axis.\n",
    "        ax (plt.Axes): Matplotlib axes on which to plot.\n",
    "        model_order (list[str], optional): Order in which to display models along the x-axis. Defaults to `default_model_order`.\n",
    "        model_colours (dict[str, Any], optional): Colour for each model's bar. Defaults to `default_model_colours`.\n",
    "        model_short_names (dict[str, str], optional): Display names for models in the legend. Defaults to `default_model_short_names`.\n",
    "        errorbar (str, optional): How to construct the error bars when there are several samples per model and metric. Defaults to `\"minmax\"`.\n",
    "\n",
    "    Returns:\n",
    "        plt.Axes: The axes on which the plot was made. \n",
    "    \"\"\"\n",
    "    # Check argument correctness\n",
    "    models = data[\"model\"].unique()\n",
    "    for m in models:\n",
    "        assert m in model_order and m in model_colours and m in model_short_names\n",
    "    model_order = [m for m in model_order if m in models]\n",
    "    if isinstance(metrics, str):\n",
    "        metrics = [metrics]\n",
    "    errorbar = (lambda x: (x.min(), x.max())) if errorbar == \"minmax\" else errorbar\n",
    "\n",
    "    # Reorganize data\n",
    "    data = data.rename(columns={m: metric_short_names[m] for m in metrics})\n",
    "    data[\"model\"] = data[\"model\"].map(model_short_names)\n",
    "    model_colours = [model_colours[m] for m in model_order]\n",
    "    model_order = [model_short_names[m] for m in model_order]\n",
    "    data = data.melt(\n",
    "        id_vars=[\"model\"],\n",
    "        value_vars=metric_short_names.values(),\n",
    "        var_name=\"metric\",\n",
    "        value_name=metric_units,\n",
    "    )\n",
    "\n",
    "    # Make the plot\n",
    "    sns.barplot(\n",
    "        data=data,\n",
    "        ax=ax,\n",
    "        x=\"metric\",\n",
    "        y=metric_units,\n",
    "        hue=\"model\",\n",
    "        hue_order=model_order,\n",
    "        palette=model_colours,\n",
    "        errorbar=errorbar,\n",
    "        **kwargs,\n",
    "    )\n",
    "    ax.set(xlabel=\"\")\n",
    "    ax.legend()\n",
    "\n",
    "    return ax"
   ]
  },
  {
   "cell_type": "markdown",
   "metadata": {},
   "source": [
    "# Regression model comparisons"
   ]
  },
  {
   "cell_type": "markdown",
   "metadata": {},
   "source": [
    "### Collect data"
   ]
  },
  {
   "cell_type": "code",
   "execution_count": 13,
   "metadata": {},
   "outputs": [
    {
     "name": "stdout",
     "output_type": "stream",
     "text": [
      "Loading from cached file data/temp.csv...\n",
      "Loading from cached file data/gp_regression.csv...\n",
      "Loading from cached file data/hh_model_comparison.csv...\n"
     ]
    }
   ],
   "source": [
    "# TODO: @Sangnie/Sarthak, fix to pull your data. I think just one setting (e.g., x_dim=10 or whatever) per dataset\n",
    "# so that there isn't an overload of information in the main text. Elsewhere in the notebook we can generate plots\n",
    "# showing more ablations if we wish.\n",
    "data_linreg = get_run_performances(\n",
    "    wandb_username=\"ericelmoznino\",\n",
    "    dataset=\"sinusoid-regression\",\n",
    "    compare_across=[\"model\"],\n",
    "    comparison_metrics=[\"val/iid_MSE\", \"val/far_MSE\", \"val/wide_MSE\"],\n",
    "    mode=\"min\",\n",
    "    filters={\n",
    "        \"config.model\": {\"$nin\": [\"explicit-transformer-known-context\"]},\n",
    "        \"config.context_style\": \"same\",\n",
    "        \"config.kind_kwargs\": \"{'fixed_freq': True, 'n_freq': 3}\",\n",
    "    },\n",
    "    save_path=\"data/temp.csv\",\n",
    ")\n",
    "data_mlpreg = get_run_performances(\n",
    "    wandb_username=\"ericelmoznino\",\n",
    "    dataset=\"sinusoid-regression\",\n",
    "    compare_across=[\"model\"],\n",
    "    comparison_metrics=[\"val/iid_MSE\", \"val/far_MSE\", \"val/wide_MSE\"],\n",
    "    mode=\"min\",\n",
    "    filters={\n",
    "        \"config.model\": {\"$nin\": [\"explicit-transformer-known-context\"]},\n",
    "        \"config.context_style\": \"same\",\n",
    "        \"config.kind_kwargs\": \"{'fixed_freq': True, 'n_freq': 3}\",\n",
    "    },\n",
    "    save_path=\"data/temp.csv\",\n",
    ")\n",
    "data_gpreg = get_run_performances(\n",
    "    wandb_username=\"sarthmit\",\n",
    "    dataset=\"gp-regression\",\n",
    "    compare_across=[\"model\"],\n",
    "    comparison_metrics=[\"val/iid_MSE\", \"val/far_MSE\", \"val/wide_MSE\"],\n",
    "    mode=\"min\",\n",
    "    filters={\n",
    "        \"config.context_style\": \"same\",\n",
    "        \"config.kind_kwargs\": \"{'kernel': 'RBF'}\",\n",
    "    },\n",
    "    save_path=\"data/gp_regression.csv\",\n",
    ")\n",
    "data_sinreg = get_run_performances(\n",
    "    wandb_username=\"ericelmoznino\",\n",
    "    dataset=\"sinusoid-regression\",\n",
    "    compare_across=[\"model\", \"context_style\"],\n",
    "    comparison_metrics=[\"val/iid_MSE\", \"val/far_MSE\", \"val/wide_MSE\"],\n",
    "    mode=\"min\",\n",
    "    filters={\n",
    "        \"config.model\": {\"$nin\": [\"explicit-transformer-known-context\"]},\n",
    "        \"config.context_style\": \"same\",\n",
    "        \"config.kind_kwargs\": \"{'fixed_freq': True, 'n_freq': 3}\",\n",
    "    },\n",
    "    save_path=\"data/sinusoid_model_comparison.csv\",\n",
    ")\n",
    "data_sinreg = data_sinreg[data_sinreg[\"context_style\"] == \"same\"]\n",
    "data_huxley = get_run_performances(\n",
    "    wandb_username=\"leogagnon\",\n",
    "    dataset=\"hh-regression\",\n",
    "    compare_across=[\"model\"],\n",
    "    comparison_metrics=[\"val/iid_MSE\", \"val/far_MSE\", \"val/wide_MSE\"],\n",
    "    mode=\"min\",\n",
    "    filters={\n",
    "        \"tags\": {\"$in\": [\"bad_plot\"]},\n",
    "    },\n",
    "    save_path=\"data/hh_model_comparison.csv\",\n",
    ")"
   ]
  },
  {
   "cell_type": "markdown",
   "metadata": {},
   "source": [
    "### Plots"
   ]
  },
  {
   "cell_type": "code",
   "execution_count": 14,
   "metadata": {},
   "outputs": [
    {
     "data": {
      "image/png": "[encoded data removed]",
      "text/plain": [
       "<Figure size 1100x200 with 5 Axes>"
      ]
     },
     "metadata": {},
     "output_type": "display_data"
    }
   ],
   "source": [
    "fig, axs = plt.subplots(nrows=1, ncols=5, figsize=(5.5, 1), width_ratios=[1, 1, 1, 1, 0.85])\n",
    "\n",
    "model_comparison_barplot(\n",
    "    data=data_linreg,\n",
    "    metrics=[\"val/far_MSE\", \"val/wide_MSE\"],\n",
    "    metric_short_names={\"val/far_MSE\": \"OOD (far)\", \"val/wide_MSE\": \"OOD (wide)\"},\n",
    "    metric_units=r\"MSE ($\\downarrow$)\",\n",
    "    err_kws={\"linewidth\": 1.25},\n",
    "    ax=axs[0],\n",
    ")\n",
    "axs[0].set(title=\"Linear\")\n",
    "\n",
    "model_comparison_barplot(\n",
    "    data=data_mlpreg,\n",
    "    metrics=[\"val/far_MSE\", \"val/wide_MSE\"],\n",
    "    metric_short_names={\"val/far_MSE\": \"OOD (far)\", \"val/wide_MSE\": \"OOD (wide)\"},\n",
    "    metric_units=r\"MSE ($\\downarrow$)\",\n",
    "    err_kws={\"linewidth\": 1.25},\n",
    "    ax=axs[1],\n",
    ")\n",
    "axs[1].set(title=\"Nonlinear (MLP)\")\n",
    "\n",
    "model_comparison_barplot(\n",
    "    data=data_gpreg,\n",
    "    metrics=[\"val/far_MSE\", \"val/wide_MSE\"],\n",
    "    metric_short_names={\"val/far_MSE\": \"OOD (far)\", \"val/wide_MSE\": \"OOD (wide)\"},\n",
    "    metric_units=r\"MSE ($\\downarrow$)\",\n",
    "    err_kws={\"linewidth\": 1.25},\n",
    "    ax=axs[2],\n",
    ")\n",
    "axs[2].set(title=\"Gaussian process\")\n",
    "\n",
    "model_comparison_barplot(\n",
    "    data=data_sinreg,\n",
    "    metrics=[\"val/far_MSE\", \"val/wide_MSE\"],\n",
    "    metric_short_names={\"val/far_MSE\": \"OOD (far)\", \"val/wide_MSE\": \"OOD (wide)\"},\n",
    "    metric_units=r\"MSE ($\\downarrow$)\",\n",
    "    err_kws={\"linewidth\": 1.25},\n",
    "    ax=axs[3],\n",
    ")\n",
    "axs[3].set(title=\"Sinusoidal\")\n",
    "\n",
    "model_comparison_barplot(\n",
    "    data=data_huxley,\n",
    "    metrics=[\"val/far_MSE\", \"val/wide_MSE\"],\n",
    "    metric_short_names={\"val/far_MSE\": \"OOD (far)\", \"val/wide_MSE\": \"OOD (wide)\"},\n",
    "    metric_units=r\"MSE ($\\downarrow$)\",\n",
    "    err_kws={\"linewidth\": 1.25},\n",
    "    ax=axs[4],\n",
    ")\n",
    "axs[4].set(title=\"Hodgkin-Huxley\")\n",
    "\n",
    "for ax in axs[1:]:\n",
    "    ax.set(ylabel=None)\n",
    "for ax in axs:\n",
    "    ax.legend().remove()\n",
    "\n",
    "fig.savefig(\"saved/regression_model_comparison.pdf\")\n",
    "plt.show()"
   ]
  },
  {
   "cell_type": "markdown",
   "metadata": {},
   "source": [
    "# Classification model comparisons"
   ]
  },
  {
   "cell_type": "markdown",
   "metadata": {},
   "source": [
    "### Collect data"
   ]
  },
  {
   "cell_type": "code",
   "execution_count": 11,
   "metadata": {},
   "outputs": [
    {
     "name": "stdout",
     "output_type": "stream",
     "text": [
      "Loading from cached file data/linear_classification.csv...\n",
      "Loading from cached file data/mlp_classification.csv...\n",
      "Loading from cached file data/alchemy_model_comparison.csv...\n"
     ]
    }
   ],
   "source": [
    "# TODO: @Sangnie/Sarthak, fix to pull your data. I think just one setting (e.g., x_dim=10 or whatever) per dataset\n",
    "# so that there isn't an overload of information in the main text. Elsewhere in the notebook we can generate plots\n",
    "# showing more ablations if we wish.\n",
    "data_lincls = get_run_performances(\n",
    "    wandb_username=\"sarthmit\",\n",
    "    dataset=\"linear-classification\",\n",
    "    compare_across=[\"model\"],\n",
    "    comparison_metrics=[\"val/iid_MSE\", \"val/far_MSE\", \"val/wide_MSE\"],\n",
    "    mode=\"min\",\n",
    "    filters={\n",
    "        \"config.model\": {\"$nin\": [\"explicit-transformer-known-context\"]},\n",
    "    },\n",
    "    save_path=\"data/linear_classification.csv\",\n",
    ")\n",
    "data_mlpcls = get_run_performances(\n",
    "    wandb_username=\"sarthmit\",\n",
    "    dataset=\"mlp-classification\",\n",
    "    compare_across=[\"model\"],\n",
    "    comparison_metrics=[\"val/iid_MSE\", \"val/far_MSE\", \"val/wide_MSE\"],\n",
    "    mode=\"min\",\n",
    "    filters={\n",
    "        \"config.model\": {\"$nin\": [\"explicit-transformer-known-context\"]},\n",
    "    },\n",
    "    save_path=\"data/mlp_classification.csv\",\n",
    ")\n",
    "data_alchemy = get_run_performances(\n",
    "    wandb_username=\"leogagnon\",\n",
    "    wandb_project=\"mesa-opt-alchemy\",\n",
    "    dataset=None,\n",
    "    compare_across=\"model\",\n",
    "    comparison_metrics=[\"val/acc\"],\n",
    "    mode=\"max\",\n",
    "    filters=None,\n",
    "    save_path=\"data/alchemy_model_comparison.csv\",\n",
    ")"
   ]
  },
  {
   "cell_type": "markdown",
   "metadata": {},
   "source": [
    "### Plots"
   ]
  },
  {
   "cell_type": "code",
   "execution_count": 12,
   "metadata": {},
   "outputs": [
    {
     "data": {
      "image/png": "[encoded data removed]",
      "text/plain": [
       "<Figure size 600x200 with 3 Axes>"
      ]
     },
     "metadata": {},
     "output_type": "display_data"
    }
   ],
   "source": [
    "fig, axs = plt.subplots(nrows=1, ncols=3, figsize=(3, 1), width_ratios=[1, 1, 0.4])\n",
    "\n",
    "model_comparison_barplot(\n",
    "    data=data_lincls,\n",
    "    metrics=[\"val/far_MSE\", \"val/wide_MSE\"],\n",
    "    metric_short_names={\"val/far_MSE\": \"OOD (far)\", \"val/wide_MSE\": \"OOD (wide)\"},\n",
    "    metric_units=r\"Accuracy ($\\uparrow$)\",\n",
    "    err_kws={\"linewidth\": 1.25},\n",
    "    ax=axs[0],\n",
    ")\n",
    "axs[0].set(title=\"Linear\")\n",
    "\n",
    "model_comparison_barplot(\n",
    "    data=data_mlpcls,\n",
    "    metrics=[\"val/far_MSE\", \"val/wide_MSE\"],\n",
    "    metric_short_names={\"val/far_MSE\": \"OOD (far)\", \"val/wide_MSE\": \"OOD (wide)\"},\n",
    "    metric_units=r\"Accuracy ($\\uparrow$)\",\n",
    "    err_kws={\"linewidth\": 1.25},\n",
    "    ax=axs[1],\n",
    ")\n",
    "axs[1].set(title=\"Nonlinear (MLP)\")\n",
    "\n",
    "model_comparison_barplot(\n",
    "    data=data_alchemy,\n",
    "    metrics=[\"val/acc\"],\n",
    "    metric_short_names={\"val/acc\": \"OOD\"},\n",
    "    metric_units=r\"Accuracy ($\\uparrow$)\",\n",
    "    err_kws={\"linewidth\": 1.25},\n",
    "    ax=axs[2],\n",
    ")\n",
    "axs[2].set(ylim=[0.99, 1.0], title=\"Alchemy\", yticks=[0.99, 1.0])\n",
    "\n",
    "for ax in axs[1:]:\n",
    "    ax.set(ylabel=None)\n",
    "for ax in axs:\n",
    "    ax.legend().remove()\n",
    "\n",
    "fig.savefig(\"saved/classification_model_comparison.pdf\")\n",
    "plt.show()"
   ]
  },
  {
   "cell_type": "markdown",
   "metadata": {},
   "source": [
    "# Real-world model comparisons"
   ]
  },
  {
   "cell_type": "markdown",
   "metadata": {},
   "source": [
    "### Collect data"
   ]
  },
  {
   "cell_type": "code",
   "execution_count": null,
   "metadata": {},
   "outputs": [
    {
     "name": "stdout",
     "output_type": "stream",
     "text": [
      "Loading from cached file data/raven_model_comparison.csv...\n",
      "Loading from cached file data/gene_model_comparison.csv...\n"
     ]
    }
   ],
   "source": [
    "data_raven = get_run_performances(\n",
    "    wandb_username=\"ericelmoznino\",\n",
    "    dataset=\"raven\",\n",
    "    compare_across=[\"model\"],\n",
    "    comparison_metrics=[\"val_iid/accuracy\", \"val_ood/accuracy\"],\n",
    "    filters={\n",
    "        \"config.setting\": \"inpo\",\n",
    "        \"tags\": {\n",
    "            \"$nin\": [\"implicit_sweep\", \"explicit_tsf_sweep\", \"explicit_mlp_sweep\"]\n",
    "        },\n",
    "    },\n",
    "    save_path=\"data/raven_model_comparison.csv\",\n",
    ")\n",
    "data_gene = get_run_performances(\n",
    "    wandb_username=\"ericelmoznino\",\n",
    "    dataset=\"gene_crispr\",\n",
    "    compare_across=[\"model\"],\n",
    "    comparison_metrics=[\"val/R2\"],\n",
    "    filters={\n",
    "        \"config.model\": {\n",
    "            \"$in\": [\n",
    "                \"implicit-dropout\",\n",
    "                \"explicit-transformer-dropoutcontext\",\n",
    "                \"explicit-mlp\",\n",
    "            ]\n",
    "        },\n",
    "    },\n",
    "    save_path=\"data/gene_model_comparison.csv\",\n",
    ")\n",
    "data_gene[\"model\"] = data_gene[\"model\"].replace(\n",
    "    {\n",
    "        \"implicit-dropout\": \"implicit\",\n",
    "        \"explicit-transformer-dropoutcontext\": \"explicit-transformer\",\n",
    "    }\n",
    ")"
   ]
  },
  {
   "cell_type": "markdown",
   "metadata": {},
   "source": [
    "### Plots"
   ]
  },
  {
   "cell_type": "code",
   "execution_count": null,
   "metadata": {},
   "outputs": [
    {
     "data": {
      "image/png": "[encoded data removed]",
      "text/plain": [
       "<Figure size 400x200 with 2 Axes>"
      ]
     },
     "metadata": {},
     "output_type": "display_data"
    }
   ],
   "source": [
    "fig, axs = plt.subplots(nrows=1, ncols=2, figsize=(2, 1), width_ratios=[4, 3])\n",
    "\n",
    "model_comparison_barplot(\n",
    "    data=data_raven,\n",
    "    metrics=[\"val_ood/accuracy\"],\n",
    "    metric_short_names={\"val_ood/accuracy\": \"OOD\"},\n",
    "    metric_units=r\"Accuracy ($\\uparrow$)\",\n",
    "    err_kws={\"linewidth\": 1.25},\n",
    "    ax=axs[0],\n",
    ")\n",
    "axs[0].set(ylim=(0.95, 1.0), title=\"Raven's PM\")\n",
    "\n",
    "model_comparison_barplot(\n",
    "    data=data_gene,\n",
    "    metrics=\"val/R2\",\n",
    "    metric_short_names={\"val/R2\": \"OOD\"},\n",
    "    metric_units=r\"$R^2$ ($\\uparrow$)\",\n",
    "    err_kws={\"linewidth\": 1.25},\n",
    "    ax=axs[1],\n",
    ")\n",
    "axs[1].set(ylim=(0.8, 0.83), title=\"Gene targeting\")\n",
    "\n",
    "for ax in axs:\n",
    "    ax.legend().remove()\n",
    "\n",
    "fig.savefig(\"saved/real-world_model_comparison.pdf\")\n",
    "plt.show()"
   ]
  },
  {
   "cell_type": "markdown",
   "metadata": {},
   "source": [
    "# Interpretability"
   ]
  },
  {
   "cell_type": "markdown",
   "metadata": {},
   "source": [
    "### Raven"
   ]
  },
  {
   "cell_type": "code",
   "execution_count": null,
   "metadata": {},
   "outputs": [
    {
     "name": "stdout",
     "output_type": "stream",
     "text": [
      "Loading from cached file data/raven_rule_decoding.csv...\n"
     ]
    },
    {
     "data": {
      "image/png": "[encoded data removed]",
      "text/plain": [
       "<Figure size 320x260 with 1 Axes>"
      ]
     },
     "metadata": {},
     "output_type": "display_data"
    }
   ],
   "source": [
    "data = get_run_performances(\n",
    "    wandb_username=\"ericelmoznino\",\n",
    "    dataset=\"raven\",\n",
    "    compare_across=[\"model\"],\n",
    "    comparison_metrics=[\"val_iid/rule_accuracy\", \"val_ood/rule_accuracy\"],\n",
    "    filters={\n",
    "        \"config.setting\": \"inpo\",\n",
    "        \"tags\": {\n",
    "            \"$nin\": [\"implicit_sweep\", \"explicit_tsf_sweep\", \"explicit_mlp_sweep\"]\n",
    "        },\n",
    "    },\n",
    "    save_path=\"data/raven_rule_decoding.csv\",\n",
    ")\n",
    "\n",
    "fig, ax = plt.subplots(figsize=(1.6, 1.3))\n",
    "model_comparison_barplot(\n",
    "    data=data,\n",
    "    metrics=[\"val_iid/rule_accuracy\", \"val_ood/rule_accuracy\"],\n",
    "    metric_short_names={\"val_iid/rule_accuracy\": \"IID\", \"val_ood/rule_accuracy\": \"OOD\"},\n",
    "    metric_units=\"Rule decoding accuracy\",\n",
    "    ax=ax,\n",
    ")\n",
    "ax.set(ylim=(0.7, 1.01), title=\"Raven's Progressive Matrices\")\n",
    "ax.legend(loc=\"upper right\").remove()\n",
    "fig.savefig(\"saved/raven_rule_decoding.pdf\")\n",
    "plt.show()"
   ]
  },
  {
   "cell_type": "markdown",
   "metadata": {},
   "source": [
    "### CRISPR"
   ]
  },
  {
   "cell_type": "code",
   "execution_count": null,
   "metadata": {},
   "outputs": [
    {
     "name": "stdout",
     "output_type": "stream",
     "text": [
      "Loading from cached file data/gene_target_decoding.csv...\n"
     ]
    },
    {
     "data": {
      "image/png": "[encoded data removed]",
      "text/plain": [
       "<Figure size 180x260 with 1 Axes>"
      ]
     },
     "metadata": {},
     "output_type": "display_data"
    }
   ],
   "source": [
    "data = get_run_performances(\n",
    "    wandb_username=\"ericelmoznino\",\n",
    "    dataset=\"gene_crispr\",\n",
    "    compare_across=[\"model\"],\n",
    "    comparison_metrics=[\"val/ptb_id_acc\"],\n",
    "    filters={\n",
    "        \"config.model\": {\n",
    "            \"$in\": [\n",
    "                \"explicit-transformer-dropoutcontext\",\n",
    "                \"explicit-mlp\",\n",
    "            ]\n",
    "        },\n",
    "    },\n",
    "    save_path=\"data/gene_target_decoding.csv\",\n",
    ")\n",
    "data[\"model\"] = data[\"model\"].replace(\n",
    "    {\"explicit-transformer-dropoutcontext\": \"explicit-transformer\"}\n",
    ")\n",
    "\n",
    "fig, ax = plt.subplots(figsize=(0.9, 1.3))\n",
    "model_comparison_barplot(\n",
    "    data=data,\n",
    "    metrics=\"val/ptb_id_acc\",\n",
    "    metric_short_names={\"val/ptb_id_acc\": \"OOD\"},\n",
    "    metric_units=\"Target decoding accuracy\",\n",
    "    ax=ax,\n",
    ")\n",
    "ax.set(title=\"Gene targeting\")\n",
    "ax.legend(loc=\"upper right\").remove()\n",
    "fig.savefig(\"saved/gene_target_decoding.pdf\")\n",
    "plt.show()"
   ]
  },
  {
   "cell_type": "markdown",
   "metadata": {},
   "source": [
    "### Sinusoidal regression"
   ]
  },
  {
   "cell_type": "code",
   "execution_count": null,
   "metadata": {},
   "outputs": [
    {
     "name": "stdout",
     "output_type": "stream",
     "text": [
      "Loading from cached file data/sinusoid_w_decoding.csv...\n"
     ]
    },
    {
     "data": {
      "image/png": "[encoded data removed]",
      "text/plain": [
       "<Figure size 400x260 with 1 Axes>"
      ]
     },
     "metadata": {},
     "output_type": "display_data"
    }
   ],
   "source": [
    "data = get_run_performances(\n",
    "    wandb_username=\"ericelmoznino\",\n",
    "    dataset=\"sinusoid-regression\",\n",
    "    compare_across=[\"model\"],\n",
    "    comparison_metrics=[\"val/iid_w_loss\", \"val/far_w_loss\", \"val/wide_w_loss\"],\n",
    "    mode=\"min\",\n",
    "    filters={\n",
    "        \"config.model\": {\"$nin\": [\"implicit\", \"explicit-transformer-known-context\"]},\n",
    "        \"config.kind_kwargs\": \"{'fixed_freq': True, 'n_freq': 3}\",\n",
    "    },\n",
    "    save_path=\"data/sinusoid_w_decoding.csv\",\n",
    ")\n",
    "\n",
    "fig, ax = plt.subplots(figsize=(2, 1.3))\n",
    "model_comparison_barplot(\n",
    "    data=data,\n",
    "    metrics=[\"val/iid_w_loss\", \"val/far_w_loss\", \"val/wide_w_loss\"],\n",
    "    metric_short_names={\n",
    "        \"val/iid_w_loss\": \"IID\",\n",
    "        \"val/far_w_loss\": \"OOD (far)\",\n",
    "        \"val/wide_w_loss\": \"OOD (wide)\",\n",
    "    },\n",
    "    metric_units=r\"$W$ decoding MSE\",\n",
    "    ax=ax,\n",
    ")\n",
    "ax.set(title=\"Sinusoidal regression\")\n",
    "ax.legend(loc=\"upper right\").remove()\n",
    "fig.savefig(\"saved/sinusoid_w_decoding.pdf\")\n",
    "plt.show()"
   ]
  },
  {
   "cell_type": "markdown",
   "metadata": {},
   "source": [
    "---\n",
    "# Appendix"
   ]
  },
  {
   "cell_type": "markdown",
   "metadata": {},
   "source": [
    "### Gaussian Process"
   ]
  },
  {
   "cell_type": "code",
   "execution_count": 5,
   "metadata": {},
   "outputs": [
    {
     "name": "stdout",
     "output_type": "stream",
     "text": [
      "Loading from cached file data/gp_regression_RBF_same.csv...\n",
      "Loading from cached file data/gp_regression_RBF_near.csv...\n",
      "Loading from cached file data/gp_regression_Matern_same.csv...\n",
      "Loading from cached file data/gp_regression_Matern_near.csv...\n"
     ]
    }
   ],
   "source": [
    "gp_data = {}\n",
    "context_styles = ['same', 'near']\n",
    "kernels = ['RBF', 'Matern']\n",
    "\n",
    "for kernel in kernels:\n",
    "    for context in context_styles:\n",
    "        gp_data[f'{kernel} {context}'] = get_run_performances(\n",
    "            wandb_username=\"sarthmit\",\n",
    "            dataset=\"gp-regression\",\n",
    "            compare_across=[\"model\"],\n",
    "            comparison_metrics=[\"val/iid_MSE\", \"val/far_MSE\", \"val/wide_MSE\"],\n",
    "            mode=\"min\",\n",
    "            filters={\n",
    "                \"config.model\": {\"$nin\": [\"explicit-transformer-known-context\"]},\n",
    "                \"config.context_style\": f\"{context}\",\n",
    "                \"config.kind_kwargs\": \"{'kernel':'\"+str(kernel)+\"'\",\n",
    "            },\n",
    "            save_path=f\"data/gp_regression_{kernel}_{context}.csv\",            \n",
    "        )"
   ]
  },
  {
   "cell_type": "code",
   "execution_count": 6,
   "metadata": {},
   "outputs": [
    {
     "name": "stderr",
     "output_type": "stream",
     "text": [
      "/tmp/ipykernel_1049/1858205671.py:173: FutureWarning: \n",
      "\n",
      "The `errwidth` parameter is deprecated. And will be removed in v0.15.0. Pass `err_kws={'linewidth': 1.25}` instead.\n",
      "\n",
      "  sns.barplot(\n",
      "/tmp/ipykernel_1049/1858205671.py:173: FutureWarning: \n",
      "\n",
      "The `errwidth` parameter is deprecated. And will be removed in v0.15.0. Pass `err_kws={'linewidth': 1.25}` instead.\n",
      "\n",
      "  sns.barplot(\n",
      "/tmp/ipykernel_1049/1858205671.py:173: FutureWarning: \n",
      "\n",
      "The `errwidth` parameter is deprecated. And will be removed in v0.15.0. Pass `err_kws={'linewidth': 1.25}` instead.\n",
      "\n",
      "  sns.barplot(\n",
      "/tmp/ipykernel_1049/1858205671.py:173: FutureWarning: \n",
      "\n",
      "The `errwidth` parameter is deprecated. And will be removed in v0.15.0. Pass `err_kws={'linewidth': 1.25}` instead.\n",
      "\n",
      "  sns.barplot(\n"
     ]
    },
    {
     "data": {
      "image/png": "[encoded data removed]",
      "text/plain": [
       "<Figure size 800x200 with 4 Axes>"
      ]
     },
     "metadata": {},
     "output_type": "display_data"
    }
   ],
   "source": [
    "fig, axs = plt.subplots(nrows=1, ncols=4, figsize=(4, 1), width_ratios=[1, 1, 1, 1])\n",
    "\n",
    "i = 0\n",
    "for kernel in kernels:\n",
    "    for context in context_styles:\n",
    "        model_comparison_barplot(\n",
    "            data=gp_data[f'{kernel} {context}'],\n",
    "            metrics=[\"val/far_MSE\", \"val/wide_MSE\"],\n",
    "            metric_short_names={\"val/far_MSE\": \"OOD (far)\", \"val/wide_MSE\": \"OOD (wide)\"},\n",
    "            metric_units=r\"MSE ($\\downarrow$)\",\n",
    "            err_kws={\"linewidth\": 1.25},\n",
    "            ax=axs[i],\n",
    "        )\n",
    "        axs[i].set(title=f\"{kernel} {context}\")\n",
    "        i += 1\n",
    "\n",
    "for ax in axs[1:]:\n",
    "    ax.set(ylabel=None)\n",
    "for ax in axs:\n",
    "    ax.legend().remove()\n",
    "plt.show()"
   ]
  },
  {
   "cell_type": "markdown",
   "metadata": {},
   "source": [
    "### Linear classification"
   ]
  },
  {
   "cell_type": "code",
   "execution_count": 7,
   "metadata": {},
   "outputs": [
    {
     "name": "stdout",
     "output_type": "stream",
     "text": [
      "Loading from cached file data/linear_classification_2_2_same.csv...\n",
      "Loading from cached file data/linear_classification_2_2_near.csv...\n",
      "Loading from cached file data/linear_classification_2_10_same.csv...\n",
      "Loading from cached file data/linear_classification_2_10_near.csv...\n",
      "Loading from cached file data/linear_classification_100_2_same.csv...\n",
      "Loading from cached file data/linear_classification_100_2_near.csv...\n",
      "Loading from cached file data/linear_classification_100_10_same.csv...\n",
      "Loading from cached file data/linear_classification_100_10_near.csv...\n"
     ]
    }
   ],
   "source": [
    "linear_classification_data = {}\n",
    "\n",
    "for x_dim in [2, 100]:\n",
    "    for y_dim in [2, 10]:\n",
    "        for context in context_styles:\n",
    "            linear_classification_data[f'{x_dim} {y_dim} {context}'] = get_run_performances(\n",
    "                wandb_username=\"sarthmit\",\n",
    "                dataset=\"linear-classification\",\n",
    "                compare_across=[\"model\"],\n",
    "                comparison_metrics=[\"val/Accuracy/dataloader_idx_0\", \"val/Accuracy/dataloader_idx_1\", \"val/Accuracy/dataloader_idx_2\"],\n",
    "                mode=\"max\",\n",
    "                filters={\n",
    "                    \"config.model\": {\"$nin\": [\"explicit-transformer-known-context\"]},\n",
    "                    \"config.x_dim\": x_dim,\n",
    "                    \"config.y_dim\": y_dim,\n",
    "                    \"config.context_style\": context,\n",
    "                },\n",
    "                save_path=f\"data/linear_classification_{x_dim}_{y_dim}_{context}.csv\",\n",
    "            )"
   ]
  },
  {
   "cell_type": "code",
   "execution_count": 10,
   "metadata": {},
   "outputs": [
    {
     "name": "stderr",
     "output_type": "stream",
     "text": [
      "/tmp/ipykernel_1049/1858205671.py:173: FutureWarning: \n",
      "\n",
      "The `errwidth` parameter is deprecated. And will be removed in v0.15.0. Pass `err_kws={'linewidth': 1.25}` instead.\n",
      "\n",
      "  sns.barplot(\n",
      "/tmp/ipykernel_1049/1858205671.py:173: FutureWarning: \n",
      "\n",
      "The `errwidth` parameter is deprecated. And will be removed in v0.15.0. Pass `err_kws={'linewidth': 1.25}` instead.\n",
      "\n",
      "  sns.barplot(\n",
      "/tmp/ipykernel_1049/1858205671.py:173: FutureWarning: \n",
      "\n",
      "The `errwidth` parameter is deprecated. And will be removed in v0.15.0. Pass `err_kws={'linewidth': 1.25}` instead.\n",
      "\n",
      "  sns.barplot(\n",
      "/tmp/ipykernel_1049/1858205671.py:173: FutureWarning: \n",
      "\n",
      "The `errwidth` parameter is deprecated. And will be removed in v0.15.0. Pass `err_kws={'linewidth': 1.25}` instead.\n",
      "\n",
      "  sns.barplot(\n",
      "/tmp/ipykernel_1049/1858205671.py:173: FutureWarning: \n",
      "\n",
      "The `errwidth` parameter is deprecated. And will be removed in v0.15.0. Pass `err_kws={'linewidth': 1.25}` instead.\n",
      "\n",
      "  sns.barplot(\n",
      "/tmp/ipykernel_1049/1858205671.py:173: FutureWarning: \n",
      "\n",
      "The `errwidth` parameter is deprecated. And will be removed in v0.15.0. Pass `err_kws={'linewidth': 1.25}` instead.\n",
      "\n",
      "  sns.barplot(\n"
     ]
    },
    {
     "name": "stderr",
     "output_type": "stream",
     "text": [
      "/tmp/ipykernel_1049/1858205671.py:173: FutureWarning: \n",
      "\n",
      "The `errwidth` parameter is deprecated. And will be removed in v0.15.0. Pass `err_kws={'linewidth': 1.25}` instead.\n",
      "\n",
      "  sns.barplot(\n",
      "/tmp/ipykernel_1049/1858205671.py:173: FutureWarning: \n",
      "\n",
      "The `errwidth` parameter is deprecated. And will be removed in v0.15.0. Pass `err_kws={'linewidth': 1.25}` instead.\n",
      "\n",
      "  sns.barplot(\n"
     ]
    },
    {
     "data": {
      "image/png": "[encoded data removed]",
      "text/plain": [
       "<Figure size 1600x200 with 8 Axes>"
      ]
     },
     "metadata": {},
     "output_type": "display_data"
    }
   ],
   "source": [
    "fig, axs = plt.subplots(nrows=1, ncols=8, figsize=(8, 1), width_ratios=[1, 1, 1, 1, 1, 1, 1, 1])\n",
    "\n",
    "i = 0\n",
    "for x_dim in [2, 100]:\n",
    "    for y_dim in [2, 10]:\n",
    "        for context in context_styles:\n",
    "            model_comparison_barplot(\n",
    "                data=linear_classification_data[f'{x_dim} {y_dim} {context}'],\n",
    "                metrics=[\"val/far_Accuracy\", \"val/wide_Accuracy\"],\n",
    "                metric_short_names={\"val/far_Accuracy\": \"OOD (far)\", \"val/wide_Accuracy\": \"OOD (wide)\"},\n",
    "                metric_units=r\"MSE ($\\downarrow$)\",\n",
    "                err_kws={\"linewidth\": 1.25},\n",
    "                ax=axs[i],\n",
    "            )\n",
    "            axs[i].set(title=f\"{x_dim}-dim {y_dim}-classes {context}\")\n",
    "            i += 1\n",
    "\n",
    "for ax in axs[1:]:\n",
    "    ax.set(ylabel=None)\n",
    "for ax in axs:\n",
    "    ax.legend().remove()\n",
    "plt.show()"
   ]
  },
  {
   "cell_type": "markdown",
   "metadata": {},
   "source": [
    "### MLP classification"
   ]
  },
  {
   "cell_type": "code",
   "execution_count": 13,
   "metadata": {},
   "outputs": [
    {
     "name": "stdout",
     "output_type": "stream",
     "text": [
      "Loading from cached file data/mlp_classification_2_2_same.csv...\n",
      "Loading from cached file data/mlp_classification_2_2_near.csv...\n",
      "Loading from cached file data/mlp_classification_2_10_same.csv...\n",
      "Loading from cached file data/mlp_classification_2_10_near.csv...\n",
      "Loading from cached file data/mlp_classification_100_2_same.csv...\n",
      "Loading from cached file data/mlp_classification_100_2_near.csv...\n",
      "Loading from cached file data/mlp_classification_100_10_same.csv...\n",
      "Loading from cached file data/mlp_classification_100_10_near.csv...\n"
     ]
    }
   ],
   "source": [
    "mlp_classification_data = {}\n",
    "\n",
    "for x_dim in [2, 100]:\n",
    "    for y_dim in [2, 10]:\n",
    "        for context in context_styles:\n",
    "            mlp_classification_data[f'{x_dim} {y_dim} {context}'] = get_run_performances(\n",
    "                wandb_username=\"sarthmit\",\n",
    "                dataset=\"mlp-classification\",\n",
    "                compare_across=[\"model\"],\n",
    "                comparison_metrics=[\"val/Accuracy/dataloader_idx_0\", \"val/Accuracy/dataloader_idx_1\", \"val/Accuracy/dataloader_idx_2\"],\n",
    "                mode=\"max\",\n",
    "                filters={\n",
    "                    \"config.model\": {\"$nin\": [\"explicit-transformer-known-context\"]},\n",
    "                    \"config.x_dim\": x_dim,\n",
    "                    \"config.y_dim\": y_dim,\n",
    "                    \"config.context_style\": context,\n",
    "                },\n",
    "                save_path=f\"data/mlp_classification_{x_dim}_{y_dim}_{context}.csv\",\n",
    "            )"
   ]
  },
  {
   "cell_type": "code",
   "execution_count": 14,
   "metadata": {},
   "outputs": [
    {
     "name": "stderr",
     "output_type": "stream",
     "text": [
      "/tmp/ipykernel_1049/1858205671.py:173: FutureWarning: \n",
      "\n",
      "The `errwidth` parameter is deprecated. And will be removed in v0.15.0. Pass `err_kws={'linewidth': 1.25}` instead.\n",
      "\n",
      "  sns.barplot(\n",
      "/tmp/ipykernel_1049/1858205671.py:173: FutureWarning: \n",
      "\n",
      "The `errwidth` parameter is deprecated. And will be removed in v0.15.0. Pass `err_kws={'linewidth': 1.25}` instead.\n",
      "\n",
      "  sns.barplot(\n",
      "/tmp/ipykernel_1049/1858205671.py:173: FutureWarning: \n",
      "\n",
      "The `errwidth` parameter is deprecated. And will be removed in v0.15.0. Pass `err_kws={'linewidth': 1.25}` instead.\n",
      "\n",
      "  sns.barplot(\n",
      "/tmp/ipykernel_1049/1858205671.py:173: FutureWarning: \n",
      "\n",
      "The `errwidth` parameter is deprecated. And will be removed in v0.15.0. Pass `err_kws={'linewidth': 1.25}` instead.\n",
      "\n",
      "  sns.barplot(\n",
      "/tmp/ipykernel_1049/1858205671.py:173: FutureWarning: \n",
      "\n",
      "The `errwidth` parameter is deprecated. And will be removed in v0.15.0. Pass `err_kws={'linewidth': 1.25}` instead.\n",
      "\n",
      "  sns.barplot(\n"
     ]
    },
    {
     "name": "stderr",
     "output_type": "stream",
     "text": [
      "/tmp/ipykernel_1049/1858205671.py:173: FutureWarning: \n",
      "\n",
      "The `errwidth` parameter is deprecated. And will be removed in v0.15.0. Pass `err_kws={'linewidth': 1.25}` instead.\n",
      "\n",
      "  sns.barplot(\n",
      "/tmp/ipykernel_1049/1858205671.py:173: FutureWarning: \n",
      "\n",
      "The `errwidth` parameter is deprecated. And will be removed in v0.15.0. Pass `err_kws={'linewidth': 1.25}` instead.\n",
      "\n",
      "  sns.barplot(\n",
      "/tmp/ipykernel_1049/1858205671.py:173: FutureWarning: \n",
      "\n",
      "The `errwidth` parameter is deprecated. And will be removed in v0.15.0. Pass `err_kws={'linewidth': 1.25}` instead.\n",
      "\n",
      "  sns.barplot(\n"
     ]
    },
    {
     "data": {
      "image/png": "[encoded data removed]",
      "text/plain": [
       "<Figure size 1600x200 with 8 Axes>"
      ]
     },
     "metadata": {},
     "output_type": "display_data"
    }
   ],
   "source": [
    "fig, axs = plt.subplots(nrows=1, ncols=8, figsize=(8, 1), width_ratios=[1, 1, 1, 1, 1, 1, 1, 1])\n",
    "\n",
    "i = 0\n",
    "for x_dim in [2, 100]:\n",
    "    for y_dim in [2, 10]:\n",
    "        for context in context_styles:\n",
    "            model_comparison_barplot(\n",
    "                data=mlp_classification_data[f'{x_dim} {y_dim} {context}'],\n",
    "                metrics=[\"val/far_Accuracy\", \"val/wide_Accuracy\"],\n",
    "                metric_short_names={\"val/far_Accuracy\": \"OOD (far)\", \"val/wide_Accuracy\": \"OOD (wide)\"},\n",
    "                metric_units=r\"MSE ($\\downarrow$)\",\n",
    "                err_kws={\"linewidth\": 1.25},\n",
    "                ax=axs[i],\n",
    "            )\n",
    "            axs[i].set(title=f\"{x_dim}-dim {y_dim}-classes {context}\")\n",
    "            i += 1\n",
    "\n",
    "for ax in axs[1:]:\n",
    "    ax.set(ylabel=None)\n",
    "for ax in axs:\n",
    "    ax.legend().remove()\n",
    "plt.show()"
   ]
  }
 ],
 "metadata": {
  "kernelspec": {
   "display_name": "pytorch",
   "language": "python",
   "name": "python3"
  },
  "language_info": {
   "codemirror_mode": {
    "name": "ipython",
    "version": 3
   },
   "file_extension": ".py",
   "mimetype": "text/x-python",
   "name": "python",
   "nbconvert_exporter": "python",
   "pygments_lexer": "ipython3",
   "version": "3.11.4"
  }
 },
 "nbformat": 4,
 "nbformat_minor": 2
}
