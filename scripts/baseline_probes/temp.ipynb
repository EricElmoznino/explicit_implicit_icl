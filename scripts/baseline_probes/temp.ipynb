{
 "cells": [
  {
   "cell_type": "code",
   "execution_count": 4,
   "metadata": {},
   "outputs": [
    {
     "name": "stderr",
     "output_type": "stream",
     "text": [
      "/tmp/ipykernel_981954/3038981905.py:3: DeprecationWarning: \n",
      "Pyarrow will become a required dependency of pandas in the next major release of pandas (pandas 3.0),\n",
      "(to allow more performant data types, such as the Arrow string type, and better interoperability with other libraries)\n",
      "but was not found to be installed on your system.\n",
      "If this would cause problems for you,\n",
      "please provide us feedback at https://github.com/pandas-dev/pandas/issues/54466\n",
      "        \n",
      "  import pandas as pd\n"
     ]
    }
   ],
   "source": [
    "import numpy as np\n",
    "import json\n",
    "import pandas as pd"
   ]
  },
  {
   "cell_type": "code",
   "execution_count": 2,
   "metadata": {},
   "outputs": [],
   "source": [
    "with open('probe_data_.json', 'r') as f:\n",
    "    data = json.load(f)"
   ]
  },
  {
   "cell_type": "code",
   "execution_count": 21,
   "metadata": {},
   "outputs": [],
   "source": [
    "experiments = [\n",
    "    \"lowrankmlp_classification\",\n",
    "    \"lowrankmlp_regression\",\n",
    "    \"linear_regression\",\n",
    "    \"linear_classification\",\n",
    "    \"raven\",\n",
    "    \"sinusoid_regression\",\n",
    "]\n",
    "val_datasets = [\n",
    "    [\"iid\", \"ood (far)\", \"ood (wide)\"],\n",
    "    [\"iid\", \"ood (far)\", \"ood (wide)\"],\n",
    "    [\"iid\", \"ood (far)\", \"ood (wide)\"],\n",
    "    [\"iid\", \"ood (far)\", \"ood (wide)\"],\n",
    "    [\"iid\", \"ood\"],\n",
    "    [\"iid\", \"ood (far)\", \"ood (wide)\"],\n",
    "]"
   ]
  },
  {
   "cell_type": "code",
   "execution_count": 28,
   "metadata": {},
   "outputs": [],
   "source": [
    "rows = []\n",
    "for e in range(6):\n",
    "    for s in range(5):\n",
    "        for v in range(len(val_datasets[e])):\n",
    "            rows.append([experiments[e], s, val_datasets[e][v], data[e][s][v]])\n",
    "\n",
    "df = pd.DataFrame(rows, columns=['train_data', 'seed', 'val_data', 'metric'])"
   ]
  },
  {
   "cell_type": "code",
   "execution_count": 30,
   "metadata": {},
   "outputs": [],
   "source": [
    "df.to_csv('notebooks/neurips/data/baselines.csv', index=False)"
   ]
  }
 ],
 "metadata": {
  "kernelspec": {
   "display_name": "venv",
   "language": "python",
   "name": "python3"
  },
  "language_info": {
   "codemirror_mode": {
    "name": "ipython",
    "version": 3
   },
   "file_extension": ".py",
   "mimetype": "text/x-python",
   "name": "python",
   "nbconvert_exporter": "python",
   "pygments_lexer": "ipython3",
   "version": "3.10.11"
  }
 },
 "nbformat": 4,
 "nbformat_minor": 2
}
